{
 "cells": [
  {
   "cell_type": "code",
   "execution_count": 1,
   "id": "3a5896f2",
   "metadata": {},
   "outputs": [],
   "source": [
    "import os\n",
    "os.environ['KMP_DUPLICATE_LIB_OK']='True'\n",
    "\n",
    "import torch\n",
    "import torchvision\n",
    "import torchvision.transforms as transforms\n",
    "\n",
    "# PyTorch TensorBoard support\n",
    "from torch.utils.tensorboard import SummaryWriter\n",
    "from datetime import datetime"
   ]
  },
  {
   "cell_type": "code",
   "execution_count": 2,
   "id": "2dc43a12",
   "metadata": {},
   "outputs": [
    {
     "name": "stdout",
     "output_type": "stream",
     "text": [
      "Training set has 60000 instances\n",
      "Validation set has 10000 instances\n"
     ]
    }
   ],
   "source": [
    "transform = transforms.Compose(\n",
    "    [transforms.ToTensor(),\n",
    "    transforms.Normalize((0.5,), (0.5,))])\n",
    "\n",
    "# Create datasets for training & validation, download if necessary\n",
    "training_set = torchvision.datasets.FashionMNIST('./data', train=True, transform=transform, download=True)\n",
    "validation_set = torchvision.datasets.FashionMNIST('./data', train=False, transform=transform, download=True)\n",
    "\n",
    "# Create data loaders for our datasets; shuffle for training, not for validation\n",
    "training_loader = torch.utils.data.DataLoader(training_set, batch_size=4, shuffle=True)\n",
    "validation_loader = torch.utils.data.DataLoader(validation_set, batch_size=4, shuffle=False)\n",
    "\n",
    "# Class labels\n",
    "classes = ('T-shirt/top', 'Trouser', 'Pullover', 'Dress', 'Coat',\n",
    "        'Sandal', 'Shirt', 'Sneaker', 'Bag', 'Ankle Boot')\n",
    "\n",
    "# Report split sizes\n",
    "print('Training set has {} instances'.format(len(training_set)))\n",
    "print('Validation set has {} instances'.format(len(validation_set)))"
   ]
  },
  {
   "cell_type": "code",
   "execution_count": 3,
   "id": "3882692e",
   "metadata": {},
   "outputs": [],
   "source": [
    "import matplotlib.pyplot as plt\n",
    "import numpy as np\n",
    "\n",
    "# Helper function for inline image display\n",
    "def matplotlib_imshow(img, one_channel=False):\n",
    "    if one_channel:\n",
    "        img = img.mean(dim=0)\n",
    "    img = img / 2 + 0.5     # unnormalize\n",
    "    npimg = img.numpy()\n",
    "    if one_channel:\n",
    "        plt.imshow(npimg, cmap=\"Greys\")\n",
    "    else:\n",
    "        plt.imshow(np.transpose(npimg, (1, 2, 0)))\n",
    "\n",
    "dataiter = iter(training_loader)\n",
    "images, labels = next(dataiter)"
   ]
  },
  {
   "cell_type": "code",
   "execution_count": 4,
   "id": "9f51b80f",
   "metadata": {},
   "outputs": [
    {
     "name": "stdout",
     "output_type": "stream",
     "text": [
      "Trouser  Sandal  Bag  Ankle Boot\n"
     ]
    },
    {
     "data": {
      "image/png": "[encoded data removed]",
      "text/plain": [
       "<Figure size 640x480 with 1 Axes>"
      ]
     },
     "metadata": {},
     "output_type": "display_data"
    }
   ],
   "source": [
    "# Create a grid from the images and show them\n",
    "img_grid = torchvision.utils.make_grid(images)\n",
    "matplotlib_imshow(img_grid, one_channel=True)\n",
    "print('  '.join(classes[labels[j]] for j in range(4)))"
   ]
  },
  {
   "cell_type": "code",
   "execution_count": 5,
   "id": "d4dbf892",
   "metadata": {},
   "outputs": [],
   "source": [
    "import torch.nn as nn\n",
    "import torch.nn.functional as F\n",
    "\n",
    "# PyTorch models inherit from torch.nn.Module\n",
    "class GarmentClassifier(nn.Module):\n",
    "    def __init__(self):\n",
    "        super(GarmentClassifier, self).__init__()\n",
    "        self.conv1 = nn.Conv2d(1, 6, 5)\n",
    "        self.pool = nn.MaxPool2d(2, 2)\n",
    "        self.conv2 = nn.Conv2d(6, 16, 5)\n",
    "        self.fc1 = nn.Linear(16 * 4 * 4, 120)\n",
    "        self.fc2 = nn.Linear(120, 84)\n",
    "        self.fc3 = nn.Linear(84, 10)\n",
    "\n",
    "    def forward(self, x):\n",
    "        x = self.pool(F.relu(self.conv1(x)))\n",
    "        x = self.pool(F.relu(self.conv2(x)))\n",
    "        x = x.view(-1, 16 * 4 * 4)\n",
    "        x = F.relu(self.fc1(x))\n",
    "        x = F.relu(self.fc2(x))\n",
    "        x = self.fc3(x)\n",
    "        return x\n",
    "\n",
    "\n",
    "model = GarmentClassifier()"
   ]
  },
  {
   "cell_type": "code",
   "execution_count": 6,
   "id": "e734971b",
   "metadata": {},
   "outputs": [
    {
     "name": "stdout",
     "output_type": "stream",
     "text": [
      "tensor([[0.0997, 0.0282, 0.5921, 0.7433, 0.6451, 0.0802, 0.0011, 0.8889, 0.0651,\n",
      "         0.4853],\n",
      "        [0.7736, 0.0261, 0.3482, 0.4592, 0.3155, 0.3076, 0.3737, 0.5093, 0.1176,\n",
      "         0.2129],\n",
      "        [0.2273, 0.3634, 0.5620, 0.5203, 0.9708, 0.4365, 0.9674, 0.1890, 0.1521,\n",
      "         0.3196],\n",
      "        [0.4172, 0.9265, 0.8683, 0.4275, 0.7438, 0.2008, 0.3575, 0.8862, 0.3679,\n",
      "         0.7020]])\n",
      "tensor([1, 5, 3, 7])\n",
      "Total loss for this batch: 2.3455898761749268\n"
     ]
    }
   ],
   "source": [
    "loss_fn = torch.nn.CrossEntropyLoss()\n",
    "\n",
    "# NB: Loss functions expect data in batches, so we're creating batches of 4\n",
    "# Represents the model's confidence in each of the 10 classes for a given input\n",
    "dummy_outputs = torch.rand(4, 10)\n",
    "# Represents the correct class among the 10 being tested\n",
    "dummy_labels = torch.tensor([1, 5, 3, 7])\n",
    "\n",
    "print(dummy_outputs)\n",
    "print(dummy_labels)\n",
    "\n",
    "loss = loss_fn(dummy_outputs, dummy_labels)\n",
    "print('Total loss for this batch: {}'.format(loss.item()))"
   ]
  },
  {
   "cell_type": "code",
   "execution_count": 7,
   "id": "580b6e1a",
   "metadata": {},
   "outputs": [],
   "source": [
    "# Optimizers specified in the torch.optim package\n",
    "optimizer = torch.optim.SGD(model.parameters(), lr=0.001, momentum=0.9)"
   ]
  },
  {
   "cell_type": "code",
   "execution_count": 8,
   "id": "64fb8ba1",
   "metadata": {},
   "outputs": [],
   "source": [
    "def train_one_epoch(epoch_index, tb_writer):\n",
    "    running_loss = 0.\n",
    "    last_loss = 0.\n",
    "\n",
    "    # Here, we use enumerate(training_loader) instead of\n",
    "    # iter(training_loader) so that we can track the batch\n",
    "    # index and do some intra-epoch reporting\n",
    "    for i, data in enumerate(training_loader):\n",
    "        # Every data instance is an input + label pair\n",
    "        inputs, labels = data\n",
    "\n",
    "        # Zero your gradients for every batch!\n",
    "        optimizer.zero_grad()\n",
    "\n",
    "        # Make predictions for this batch\n",
    "        outputs = model(inputs)\n",
    "\n",
    "        # Compute the loss and its gradients\n",
    "        loss = loss_fn(outputs, labels)\n",
    "        loss.backward()\n",
    "\n",
    "        # Adjust learning weights\n",
    "        optimizer.step()\n",
    "\n",
    "        # Gather data and report\n",
    "        running_loss += loss.item()\n",
    "        if i % 1000 == 999:\n",
    "            last_loss = running_loss / 1000 # loss per batch\n",
    "            print('  batch {} loss: {}'.format(i + 1, last_loss))\n",
    "            tb_x = epoch_index * len(training_loader) + i + 1\n",
    "            tb_writer.add_scalar('Loss/train', last_loss, tb_x)\n",
    "            running_loss = 0.\n",
    "\n",
    "    return last_loss"
   ]
  },
  {
   "cell_type": "code",
   "execution_count": 9,
   "id": "7ba12e28",
   "metadata": {},
   "outputs": [
    {
     "name": "stdout",
     "output_type": "stream",
     "text": [
      "EPOCH 1:\n",
      "  batch 1000 loss: 1.6462526154667139\n",
      "  batch 2000 loss: 0.8033881865199656\n",
      "  batch 3000 loss: 0.7106605510534718\n",
      "  batch 4000 loss: 0.6266218464770354\n",
      "  batch 5000 loss: 0.5872233417645911\n",
      "  batch 6000 loss: 0.5766875260258093\n",
      "  batch 7000 loss: 0.5187594697860332\n",
      "  batch 8000 loss: 0.5392125562420115\n",
      "  batch 9000 loss: 0.48090532828873256\n",
      "  batch 10000 loss: 0.47964403674483763\n",
      "  batch 11000 loss: 0.48829785439244006\n",
      "  batch 12000 loss: 0.47490331978554606\n",
      "  batch 13000 loss: 0.4646078971187817\n",
      "  batch 14000 loss: 0.4339575867341482\n",
      "  batch 15000 loss: 0.44741769252787345\n",
      "LOSS train 0.44741769252787345 valid 0.4233931601047516\n",
      "EPOCH 2:\n",
      "  batch 1000 loss: 0.42439588823716623\n",
      "  batch 2000 loss: 0.4174032556315651\n",
      "  batch 3000 loss: 0.3999616755807365\n",
      "  batch 4000 loss: 0.41652001142405787\n",
      "  batch 5000 loss: 0.40005742225976426\n",
      "  batch 6000 loss: 0.3831832501061435\n",
      "  batch 7000 loss: 0.37733415975928075\n",
      "  batch 8000 loss: 0.38340979463266556\n",
      "  batch 9000 loss: 0.3889992611929483\n",
      "  batch 10000 loss: 0.3498831232412631\n",
      "  batch 11000 loss: 0.3920970837654313\n",
      "  batch 12000 loss: 0.3457778059491102\n",
      "  batch 13000 loss: 0.3723244601959523\n",
      "  batch 14000 loss: 0.3677952408333076\n",
      "  batch 15000 loss: 0.3532850635228533\n",
      "LOSS train 0.3532850635228533 valid 0.402393639087677\n",
      "EPOCH 3:\n",
      "  batch 1000 loss: 0.34135458526713774\n",
      "  batch 2000 loss: 0.3461662017646886\n",
      "  batch 3000 loss: 0.3443334024893556\n",
      "  batch 4000 loss: 0.36524613042437704\n",
      "  batch 5000 loss: 0.3324161228233861\n",
      "  batch 6000 loss: 0.33904468217318207\n",
      "  batch 7000 loss: 0.3492335744158772\n",
      "  batch 8000 loss: 0.3511503911568143\n",
      "  batch 9000 loss: 0.33353128065350757\n",
      "  batch 10000 loss: 0.3328113806133406\n",
      "  batch 11000 loss: 0.3377993712338757\n",
      "  batch 12000 loss: 0.33232081249009204\n",
      "  batch 13000 loss: 0.32281271687874685\n",
      "  batch 14000 loss: 0.3153966153118495\n",
      "  batch 15000 loss: 0.32465556568529064\n",
      "LOSS train 0.32465556568529064 valid 0.3466123640537262\n",
      "EPOCH 4:\n",
      "  batch 1000 loss: 0.30457311217774985\n",
      "  batch 2000 loss: 0.3007127648813848\n",
      "  batch 3000 loss: 0.31274770923701384\n",
      "  batch 4000 loss: 0.3266195679961529\n",
      "  batch 5000 loss: 0.31236264782391665\n",
      "  batch 6000 loss: 0.3029137753364921\n",
      "  batch 7000 loss: 0.31708457158267267\n",
      "  batch 8000 loss: 0.2934798645542505\n",
      "  batch 9000 loss: 0.31530436228608594\n",
      "  batch 10000 loss: 0.327006101777326\n",
      "  batch 11000 loss: 0.3042976957426654\n",
      "  batch 12000 loss: 0.29465766663580145\n",
      "  batch 13000 loss: 0.3025677559411342\n",
      "  batch 14000 loss: 0.283382134454514\n",
      "  batch 15000 loss: 0.29329421079880197\n",
      "LOSS train 0.29329421079880197 valid 0.3915154039859772\n",
      "EPOCH 5:\n",
      "  batch 1000 loss: 0.2666697960271449\n",
      "  batch 2000 loss: 0.2924789316571187\n",
      "  batch 3000 loss: 0.30000158199418003\n",
      "  batch 4000 loss: 0.29192205734312304\n",
      "  batch 5000 loss: 0.28424746906342624\n",
      "  batch 6000 loss: 0.29229169820584866\n",
      "  batch 7000 loss: 0.28206654454091584\n",
      "  batch 8000 loss: 0.2806579757312029\n",
      "  batch 9000 loss: 0.2820142243392729\n",
      "  batch 10000 loss: 0.27006068666065947\n",
      "  batch 11000 loss: 0.2986060379083424\n",
      "  batch 12000 loss: 0.2831208001399791\n",
      "  batch 13000 loss: 0.2804202582706637\n",
      "  batch 14000 loss: 0.2915886578458085\n",
      "  batch 15000 loss: 0.3055221499111576\n",
      "LOSS train 0.3055221499111576 valid 0.3069036602973938\n"
     ]
    }
   ],
   "source": [
    "# Initializing in a separate cell so we can easily add more epochs to the same run\n",
    "timestamp = datetime.now().strftime('%Y%m%d_%H%M%S')\n",
    "writer = SummaryWriter('runs/fashion_trainer_{}'.format(timestamp))\n",
    "epoch_number = 0\n",
    "\n",
    "EPOCHS = 5\n",
    "\n",
    "best_vloss = 1_000_000.\n",
    "\n",
    "for epoch in range(EPOCHS):\n",
    "    print('EPOCH {}:'.format(epoch_number + 1))\n",
    "\n",
    "    # Make sure gradient tracking is on, and do a pass over the data\n",
    "    model.train(True)\n",
    "    avg_loss = train_one_epoch(epoch_number, writer)\n",
    "\n",
    "\n",
    "    running_vloss = 0.0\n",
    "    # Set the model to evaluation mode, disabling dropout and using population\n",
    "    # statistics for batch normalization.\n",
    "    model.eval()\n",
    "\n",
    "    # Disable gradient computation and reduce memory consumption.\n",
    "    with torch.no_grad():\n",
    "        for i, vdata in enumerate(validation_loader):\n",
    "            vinputs, vlabels = vdata\n",
    "            voutputs = model(vinputs)\n",
    "            vloss = loss_fn(voutputs, vlabels)\n",
    "            running_vloss += vloss\n",
    "\n",
    "    avg_vloss = running_vloss / (i + 1)\n",
    "    print('LOSS train {} valid {}'.format(avg_loss, avg_vloss))\n",
    "\n",
    "    # Log the running loss averaged per batch\n",
    "    # for both training and validation\n",
    "    writer.add_scalars('Training vs. Validation Loss',\n",
    "                    { 'Training' : avg_loss, 'Validation' : avg_vloss },\n",
    "                    epoch_number + 1)\n",
    "    writer.flush()\n",
    "\n",
    "    # Track best performance, and save the model's state\n",
    "    if avg_vloss < best_vloss:\n",
    "        best_vloss = avg_vloss\n",
    "        model_path = 'model_{}_{}'.format(timestamp, epoch_number)\n",
    "        torch.save(model.state_dict(), model_path)\n",
    "\n",
    "    epoch_number += 1"
   ]
  },
  {
   "cell_type": "code",
   "execution_count": 10,
   "id": "1045a157",
   "metadata": {},
   "outputs": [
    {
     "ename": "NameError",
     "evalue": "name 'PATH' is not defined",
     "output_type": "error",
     "traceback": [
      "\u001b[1;31m---------------------------------------------------------------------------\u001b[0m",
      "\u001b[1;31mNameError\u001b[0m                                 Traceback (most recent call last)",
      "Cell \u001b[1;32mIn[10], line 2\u001b[0m\n\u001b[0;32m      1\u001b[0m saved_model \u001b[38;5;241m=\u001b[39m GarmentClassifier()\n\u001b[1;32m----> 2\u001b[0m saved_model\u001b[38;5;241m.\u001b[39mload_state_dict(torch\u001b[38;5;241m.\u001b[39mload(PATH))\n",
      "\u001b[1;31mNameError\u001b[0m: name 'PATH' is not defined"
     ]
    }
   ],
   "source": [
    "saved_model = GarmentClassifier()\n",
    "saved_model.load_state_dict(torch.load(PATH))"
   ]
  },
  {
   "cell_type": "code",
   "execution_count": null,
   "id": "40b96224",
   "metadata": {},
   "outputs": [],
   "source": []
  }
 ],
 "metadata": {
  "kernelspec": {
   "display_name": "Python 3 (ipykernel)",
   "language": "python",
   "name": "python3"
  },
  "language_info": {
   "codemirror_mode": {
    "name": "ipython",
    "version": 3
   },
   "file_extension": ".py",
   "mimetype": "text/x-python",
   "name": "python",
   "nbconvert_exporter": "python",
   "pygments_lexer": "ipython3",
   "version": "3.11.5"
  }
 },
 "nbformat": 4,
 "nbformat_minor": 5
}

{
 "cells": [
  {
   "cell_type": "code",
   "execution_count": 6,
   "id": "04ec444e",
   "metadata": {},
   "outputs": [
    {
     "data": {
      "text/plain": [
       "CAS('ssemonthly.demo.sas.com', 443, protocol='https', name='py-session-3', session='61934638-2b4d-bf41-a802-12125c361090')"
      ]
     },
     "execution_count": 6,
     "metadata": {},
     "output_type": "execute_result"
    }
   ],
   "source": [
    "import swat\n",
    "from pathlib import Path\n",
    "\n",
    "access_token = Path('./access_token.txt').read_text()\n",
    "conn = swat.CAS(\"https://ssemonthly.demo.sas.com/cas-shared-default-http\", username=None, password=access_token, ssl_ca_list=\"C:/code/certificate/ssemonthly-rootCA-Intermidiates_4CLI.pem\", protocol=\"https\")\n",
    "conn"
   ]
  },
  {
   "cell_type": "code",
   "execution_count": 2,
   "id": "e32aa655",
   "metadata": {},
   "outputs": [],
   "source": []
  },
  {
   "cell_type": "code",
   "execution_count": null,
   "id": "1fa43f14",
   "metadata": {},
   "outputs": [],
   "source": []
  }
 ],
 "metadata": {
  "kernelspec": {
   "display_name": "Python 3 (ipykernel)",
   "language": "python",
   "name": "python3"
  },
  "language_info": {
   "codemirror_mode": {
    "name": "ipython",
    "version": 3
   },
   "file_extension": ".py",
   "mimetype": "text/x-python",
   "name": "python",
   "nbconvert_exporter": "python",
   "pygments_lexer": "ipython3",
   "version": "3.11.5"
  }
 },
 "nbformat": 4,
 "nbformat_minor": 5
}

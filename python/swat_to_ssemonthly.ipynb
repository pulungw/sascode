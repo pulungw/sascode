{
 "cells": [
  {
   "cell_type": "code",
   "execution_count": 1,
   "id": "04ec444e",
   "metadata": {
    "scrolled": true
   },
   "outputs": [
    {
     "data": {
      "text/plain": [
       "CAS('ssemonthly.demo.sas.com', 443, protocol='https', name='py-session-1', session='e6c6df27-6366-0c44-80e8-2db428002823')"
      ]
     },
     "execution_count": 1,
     "metadata": {},
     "output_type": "execute_result"
    }
   ],
   "source": [
    "import swat\n",
    "from pathlib import Path\n",
    "\n",
    "access_token = Path('./access_token.txt').read_text()\n",
    "conn = swat.CAS(\"https://ssemonthly.demo.sas.com/cas-shared-default-http/\", username=None, password=access_token, ssl_ca_list=\"C:/code/certificate/ssemonthly-rootCA-Intermidiates_4CLI.pem\", protocol=\"https\")\n",
    "conn"
   ]
  },
  {
   "cell_type": "code",
   "execution_count": null,
   "id": "e32aa655",
   "metadata": {},
   "outputs": [],
   "source": []
  },
  {
   "cell_type": "code",
   "execution_count": null,
   "id": "1fa43f14",
   "metadata": {},
   "outputs": [],
   "source": []
  }
 ],
 "metadata": {
  "kernelspec": {
   "display_name": "Python 3 (ipykernel)",
   "language": "python",
   "name": "python3"
  },
  "language_info": {
   "codemirror_mode": {
    "name": "ipython",
    "version": 3
   },
   "file_extension": ".py",
   "mimetype": "text/x-python",
   "name": "python",
   "nbconvert_exporter": "python",
   "pygments_lexer": "ipython3",
   "version": "3.11.5"
  }
 },
 "nbformat": 4,
 "nbformat_minor": 5
}

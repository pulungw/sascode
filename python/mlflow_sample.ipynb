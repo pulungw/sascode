{
 "cells": [
  {
   "cell_type": "code",
   "execution_count": null,
   "id": "2df45f56",
   "metadata": {},
   "outputs": [],
   "source": [
    "### import libraries\n",
    "from mlflow.models.signature import infer_signature\n",
    "import mlflow\n",
    "from sklearn import datasets\n",
    "from sklearn import metrics\n",
    "import requests\n",
    "import json\n",
    "import numpy as np \n",
    "import pandas as pd \n",
    "from sklearn.model_selection import train_test_split\n",
    "from sklearn.linear_model import LogisticRegression\n",
    "from sklearn.ensemble import RandomForestClassifier\n",
    "from pathlib import Path\n",
    "# sasctl interface for importing models\n",
    "import sasctl.pzmm as pzmm \n",
    "from sasctl import Session\n",
    "import warnings\n",
    "import getpass\n",
    "from sasctl import Session\n",
    "warnings.filterwarnings(\"ignore\")\n",
    "\n",
    "\n",
    "#### load dataset \n",
    "## split data to train and test \n",
    "digits = datasets.load_digits() #dataset loading\n",
    "x = digits.data               #Features stored in X \n",
    "y = digits.target \n",
    "\n",
    "df = pd.DataFrame(data= np.c_[digits['data'], digits['target']],\n",
    "                     columns= digits['feature_names'] + ['target'])\n",
    "df.head()\n",
    "\n",
    "x_train, x_test, y_train, y_test = train_test_split(df[digits['feature_names']], df['target'], test_size=0.2, random_state=42)"
   ]
  },
  {
   "cell_type": "code",
   "execution_count": null,
   "id": "5f728e0c",
   "metadata": {},
   "outputs": [],
   "source": [
    "## setup mlflow experiment\n",
    "import mlflow\n",
    "mlflow.set_tracking_uri(\"http://127.0.0.1:5000\") #  connects to a tracking URI.\n",
    "mlflow.set_experiment(\"digits-classification\") ## "
   ]
  },
  {
   "cell_type": "code",
   "execution_count": null,
   "id": "9cda6798",
   "metadata": {},
   "outputs": [],
   "source": [
    "## define randomforest model \n",
    "model = RandomForestClassifier(n_estimators=300, max_depth=20).fit(x_train, y_train)\n",
    "\n",
    "##Model signature defines schema of model input and output\n",
    "signature = infer_signature(x_train, model.predict(x_train))\n",
    "\n",
    "## log model score to mlflow\n",
    "score = model.score(x_test, y_test)\n",
    "print(\"Score: %s\" % score)\n",
    "mlflow.log_metric(\"score\", score)\n",
    "\n",
    "### log model \n",
    "mlflow.sklearn.log_model(model, \"model\", signature=signature)\n",
    "print(\"Model saved in run %s\" % mlflow.active_run().info.run_uuid)"
   ]
  },
  {
   "cell_type": "code",
   "execution_count": null,
   "id": "5320adfa",
   "metadata": {},
   "outputs": [],
   "source": [
    "mlPath = Path(f'./mlruns/1/{mlflow.active_run().info.run_uuid}/artifacts/model')\n",
    "\n",
    "## get info aboud model variables ,input and output\n",
    "varDict, inputsDict, outputsDict = pzmm.MLFlowModel.read_mlflow_model_file(mlPath)"
   ]
  },
  {
   "cell_type": "code",
   "execution_count": null,
   "id": "3493ec82",
   "metadata": {},
   "outputs": [],
   "source": []
  }
 ],
 "metadata": {
  "kernelspec": {
   "display_name": "Python 3 (ipykernel)",
   "language": "python",
   "name": "python3"
  },
  "language_info": {
   "codemirror_mode": {
    "name": "ipython",
    "version": 3
   },
   "file_extension": ".py",
   "mimetype": "text/x-python",
   "name": "python",
   "nbconvert_exporter": "python",
   "pygments_lexer": "ipython3",
   "version": "3.11.5"
  }
 },
 "nbformat": 4,
 "nbformat_minor": 5
}

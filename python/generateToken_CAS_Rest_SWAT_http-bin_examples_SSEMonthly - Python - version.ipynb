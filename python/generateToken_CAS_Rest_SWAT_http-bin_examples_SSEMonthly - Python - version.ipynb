{
 "cells": [
  {
   "cell_type": "markdown",
   "id": "3c34511e-5693-44ab-bfa6-d0843172609c",
   "metadata": {},
   "source": [
    "# Register Client and Create Access Token Notebook\n",
    "- Find detailed information about client registration and access tokens in this blog post: [Authentication to SAS Viya: a couple of approaches](https://blogs.sas.com/content/sgf/2021/09/24/authentication-to-sas-viya/)\n",
    "- Additional access token information is found at the end of this notebook.\n",
    "\n",
    "\n",
    "### Run the cells below and follow the resulting instructions."
   ]
  },
  {
   "cell_type": "markdown",
   "id": "98dcdca2",
   "metadata": {},
   "source": [
    "# Import packages and create variables"
   ]
  },
  {
   "cell_type": "code",
   "execution_count": 1,
   "id": "a48b44ae",
   "metadata": {},
   "outputs": [],
   "source": [
    "import requests\n",
    "import json\n",
    "import os\n",
    "import base64\n",
    "\n",
    "# set/create variables\n",
    "client_id=\"api.client\"     # api.client\n",
    "client_secret=\"api.secret\" # api.secret\n",
    "baseURL = \"https://ssemonthly.demo.sas.com\"     # https://sasserver.sas.com"
   ]
  },
  {
   "cell_type": "markdown",
   "id": "90a31447",
   "metadata": {},
   "source": [
    "# Create access token"
   ]
  },
  {
   "cell_type": "code",
   "execution_count": 2,
   "id": "791f2eac-f7c1-4c27-ac7c-27ff3f3052b7",
   "metadata": {},
   "outputs": [
    {
     "name": "stdout",
     "output_type": "stream",
     "text": [
      "* Please visit the following site https://ssemonthly.demo.sas.com/SASLogon/oauth/authorize?client_id=api.client&response_type=code in an Incognito browser window\n",
      "* If provided a login prompt, add your SAS login credentials with SASAdministrator rights\n",
      "* Once authenticated, you'll be redirected to an authoriztion screen, check all of the boxes that appear\n",
      "* This will result in a short string of numbers and letters such as `VAxVFVEnKr`; this is your authorization code; copy the code\n",
      "Please enter the authoriztion code you generated through the previous instructions, and then press Enter: 7Simtq7mH84hTntrnTzfz3sR2Ht7yLXr\n"
     ]
    },
    {
     "name": "stderr",
     "output_type": "stream",
     "text": [
      "C:\\Users\\jpnpul\\AppData\\Local\\miniconda3\\envs\\ml\\Lib\\site-packages\\urllib3\\connectionpool.py:1056: InsecureRequestWarning: Unverified HTTPS request is being made to host 'ssemonthly.demo.sas.com'. Adding certificate verification is strongly advised. See: https://urllib3.readthedocs.io/en/1.26.x/advanced-usage.html#ssl-warnings\n",
      "  warnings.warn(\n"
     ]
    },
    {
     "name": "stdout",
     "output_type": "stream",
     "text": [
      "{\n",
      "    \"access_token\": \"eyJhbGciOiJSUzI1NiIsImprdSI6Imh0dHBzOi8vbG9jYWxob3N0L1NBU0xvZ29uL3Rva2VuX2tleXMiLCJraWQiOiJsZWdhY3ktdG9rZW4ta2V5IiwidHlwIjoiSldUIn0.eyJqdGkiOiJhNzg1NDQ4MGYwNjM0NGU5OWEzNzI4NDc2YzQyYWVhMCIsImV4dF9pZCI6InkwU3BwcXJnM0NkblpzTG5xTTRiWnVQaHBjUnhQVEh1VmtCTzFXMUZjNG8iLCJyZW1vdGVfaXAiOiIxMTMuMzUuMTA1LjM0Iiwic2Vzc2lvbl9zaWciOiJhM2RmNmY5ZS0yZTQ5LTRhMjItYjQ4Ni01MDNmZGYyYzBhMDUiLCJhdXRob3JpdGllcyI6WyJbRUVDXSBEZW1vIENlbnRlciBVc2VycyIsIkRlZmF1bHQgRGVtbyBDZW50ZXIgVXNlcnMiLCJEYXRhQnVpbGRlcnMiLCJTQVNTY29yZVVzZXJzIiwiQ2F0YWxvZy5TdWJqZWN0TWF0dGVyRXhwZXJ0cyIsIkFwcGxpY2F0aW9uQWRtaW5pc3RyYXRvcnMiLCJJQ1VzIiwiTWlncmF0aW9uQWRtaW5zIiwiRXNyaVVzZXJzIl0sInN1YiI6ImNjODg4ZGIzLWY1NDktNDlmMS05OGQzLTczMzg0MzBmMzFlZSIsInNjb3BlIjpbIm9wZW5pZCIsInVhYS51c2VyIl0sImNsaWVudF9pZCI6ImFwaS5jbGllbnQiLCJjaWQiOiJhcGkuY2xpZW50IiwiYXpwIjoiYXBpLmNsaWVudCIsImdyYW50X3R5cGUiOiJhdXRob3JpemF0aW9uX2NvZGUiLCJ1c2VyX2lkIjoiY2M4ODhkYjMtZjU0OS00OWYxLTk4ZDMtNzMzODQzMGYzMWVlIiwib3JpZ2luIjoiYXp1cmUiLCJ1c2VyX25hbWUiOiJQdWx1bmcuV2Fza2l0b0BzYXMuY29tIiwiZW1haWwiOiJQdWx1bmcuV2Fza2l0b0BzYXMuY29tIiwiYXV0aF90aW1lIjoxNzAyMzQwMDc5LCJyZXZfc2lnIjoiOGRiYThlZDgiLCJpYXQiOjE3MDIzNDAwNzksImV4cCI6MTcwMjQyNjQ3OSwiaXNzIjoiaHR0cDovL2xvY2FsaG9zdC9TQVNMb2dvbi9vYXV0aC90b2tlbiIsInppZCI6InVhYSIsImF1ZCI6WyJ1YWEiLCJvcGVuaWQiLCJhcGkuY2xpZW50Il19.AikJoUfv3FA4AtuSmGgt_dMZhu4lr0zBRpIHdUfWj2_GpMCMD6m23bzH1ZPMPReqnFpPSpBS6saN0hDDFQTyaOJN05-wv_B-nbKIsG8F2EpNtJZvDDS346hs87QxJj4NSF4_bslJU8-NBLGe8japDUqAIMDFWhZ4z-GCOZvTiRYBF5ro6V13WvuDl_ahur5Brog-qRxSVqG6xH1_j8rXLP9GTEIXkcpgFx3kgseDHSL5XkvthL3SWdnhiTqlU4aXxk7uqRBs_PiPOU99yPaQ7HEZwjQj8xfDzc_XcibH5qDxohSMbRiP_iQKGKOcc6MRpLCL9o_MlskwZvx4z66xAQ\",\n",
      "    \"expires_in\": 86399,\n",
      "    \"id_token\": \"eyJhbGciOiJSUzI1NiIsImprdSI6Imh0dHBzOi8vbG9jYWxob3N0L1NBU0xvZ29uL3Rva2VuX2tleXMiLCJraWQiOiJsZWdhY3ktdG9rZW4ta2V5IiwidHlwIjoiSldUIn0.eyJzdWIiOiJjYzg4OGRiMy1mNTQ5LTQ5ZjEtOThkMy03MzM4NDMwZjMxZWUiLCJhdWQiOlsiYXBpLmNsaWVudCJdLCJpc3MiOiJodHRwOi8vbG9jYWxob3N0L1NBU0xvZ29uL29hdXRoL3Rva2VuIiwiZXhwIjoxNzAyNDI2NDc5LCJpYXQiOjE3MDIzNDAwNzksImF6cCI6ImFwaS5jbGllbnQiLCJzY29wZSI6WyJvcGVuaWQiXSwiZW1haWwiOiJQdWx1bmcuV2Fza2l0b0BzYXMuY29tIiwiemlkIjoidWFhIiwib3JpZ2luIjoiYXp1cmUiLCJqdGkiOiJhNzg1NDQ4MGYwNjM0NGU5OWEzNzI4NDc2YzQyYWVhMCIsInByZXZpb3VzX2xvZ29uX3RpbWUiOjE3MDIyNzYxMjM0MTUsImVtYWlsX3ZlcmlmaWVkIjpmYWxzZSwiY2xpZW50X2lkIjoiYXBpLmNsaWVudCIsImNpZCI6ImFwaS5jbGllbnQiLCJncmFudF90eXBlIjoiYXV0aG9yaXphdGlvbl9jb2RlIiwidXNlcl9uYW1lIjoiUHVsdW5nLldhc2tpdG9Ac2FzLmNvbSIsInJldl9zaWciOiJkMzBiYzRhIiwidXNlcl9pZCI6ImNjODg4ZGIzLWY1NDktNDlmMS05OGQzLTczMzg0MzBmMzFlZSIsImF1dGhfdGltZSI6MTcwMjM0MDA3OX0.Yf1LFUKzyeFTMk-reITkDUVEdYtHldZH5qHh2Z7iT20UcoMlh3LDsCMfkxwQygFfGFEptKFN2iHrdQgbarahcomM86DdKDs7nAPgcupRcAcVgswzs0Idbrq-azjcAp0QAqRpYXxAsALL6wTlmaKSjjr1pfAKZfB27YhsUOca0hjjddgzIfAet-OnEr7EJ4beOo4_hXDy-Nfswu4v0p9LYZgqORimh9jNMNxBc22u4DwQ2ExHV0vQO-FS88ZdZ7LabUbxFDA3ePOM9BdlCKLqgX8PLoispRI40MSxfjViVCyOH1CX_G5ERHtxiA7tBi9gxW9m5V-kUiqX5jKVOdwHAQ\",\n",
      "    \"jti\": \"a7854480f06344e99a3728476c42aea0\",\n",
      "    \"refresh_expires_in\": 7775999,\n",
      "    \"refresh_revocable\": false,\n",
      "    \"refresh_token\": \"eyJhbGciOiJSUzI1NiIsImprdSI6Imh0dHBzOi8vbG9jYWxob3N0L1NBU0xvZ29uL3Rva2VuX2tleXMiLCJraWQiOiJsZWdhY3ktdG9rZW4ta2V5IiwidHlwIjoiSldUIn0.eyJqdGkiOiJlODdkOWZmY2FlY2I0NTZjYjdhY2MyZTIyNTM5MDVlZS1yIiwic3ViIjoiY2M4ODhkYjMtZjU0OS00OWYxLTk4ZDMtNzMzODQzMGYzMWVlIiwiaWF0IjoxNzAyMzQwMDc5LCJleHAiOjE3MTAxMTYwNzksImNpZCI6ImFwaS5jbGllbnQiLCJjbGllbnRfaWQiOiJhcGkuY2xpZW50IiwiaXNzIjoiaHR0cDovL2xvY2FsaG9zdC9TQVNMb2dvbi9vYXV0aC90b2tlbiIsInppZCI6InVhYSIsImF1ZCI6WyJ1YWEiLCJvcGVuaWQiLCJhcGkuY2xpZW50Il0sImdyYW50ZWRfc2NvcGVzIjpbIm9wZW5pZCIsInVhYS51c2VyIl0sImF1dGhfdGltZSI6MTcwMjM0MDA3OSwiZXh0X2lkIjoieTBTcHBxcmczQ2RuWnNMbnFNNGJadVBocGNSeFBUSHVWa0JPMVcxRmM0byIsInJlbW90ZV9pcCI6IjExMy4zNS4xMDUuMzQiLCJhdXRob3JpdGllcyI6WyJbRUVDXSBEZW1vIENlbnRlciBVc2VycyIsIkRlZmF1bHQgRGVtbyBDZW50ZXIgVXNlcnMiLCJEYXRhQnVpbGRlcnMiLCJTQVNTY29yZVVzZXJzIiwiQ2F0YWxvZy5TdWJqZWN0TWF0dGVyRXhwZXJ0cyIsIkFwcGxpY2F0aW9uQWRtaW5pc3RyYXRvcnMiLCJJQ1VzIiwiTWlncmF0aW9uQWRtaW5zIiwiRXNyaVVzZXJzIl0sImdyYW50X3R5cGUiOiJhdXRob3JpemF0aW9uX2NvZGUiLCJ1c2VyX25hbWUiOiJQdWx1bmcuV2Fza2l0b0BzYXMuY29tIiwib3JpZ2luIjoiYXp1cmUiLCJ1c2VyX2lkIjoiY2M4ODhkYjMtZjU0OS00OWYxLTk4ZDMtNzMzODQzMGYzMWVlIiwicmV2X3NpZyI6IjhkYmE4ZWQ4In0.SZY5B55IUQv6nTBWmA88hPKXUkTe8G3EyXgwsh9lqspOM6gbb49N2xFQp40UeLs6ibng5H7IsCR-iGLNGF2Xu8LSmLUyF2cA_TDXvI0O100ycaKBCbYem3qLJ39X2m7i0mhpAywjT0beE2MuBdaqbgMQmtM-Bi3JhmGASnqNNbQO1Ed11-ObN4OST4InyECmw0qQqMKbBp_GJFstzyIoW4JMOp4usG5Y0FjHR9EgmgErseZP3cqX_k2U_2qW5c08tQxsU-w-VMGechjA9fb7JHTdCfNWksBTqIYuv204O-mgj3g8_yAaXJrzSnlUEtQR4W4f3PnjJtBF6jJ0NZJ13g\",\n",
      "    \"revocable\": false,\n",
      "    \"scope\": \"openid uaa.user\",\n",
      "    \"token_type\": \"bearer\"\n",
      "}\n",
      "The access token was stored for you as C:\\code\\sascode\\python/access_token.txt\n",
      "The refresh token was stored for you as C:\\code\\sascode\\python/refresh_token.txt\n"
     ]
    }
   ],
   "source": [
    "# create authorization url\n",
    "codeURL = baseURL + \"/SASLogon/oauth/authorize?client_id=\" + client_id + \"&response_type=code\"\n",
    "\n",
    "# enccode client string\n",
    "client_string = client_id + \":\" + client_secret\n",
    "message_bytes = client_string.encode('ascii')\n",
    "base64_bytes = base64.b64encode(message_bytes)\n",
    "base64_message = base64_bytes.decode('ascii')\n",
    "\n",
    "# promt with instructions and entry for auth code\n",
    "print(f\"* Please visit the following site {codeURL} in an Incognito browser window\")\n",
    "print(\"* If provided a login prompt, add your SAS login credentials with SASAdministrator rights\")\n",
    "print(\"* Once authenticated, you'll be redirected to an authoriztion screen, check all of the boxes that appear\")\n",
    "print(\"* This will result in a short string of numbers and letters such as `VAxVFVEnKr`; this is your authorization code; copy the code\")\n",
    "code = input(\"Please enter the authoriztion code you generated through the previous instructions, and then press Enter: \")\n",
    "\n",
    "# generate API call for access token\n",
    "url = f\"{baseURL}/SASLogon/oauth/token#authorization_code\"\n",
    "payload = \"grant_type=authorization_code&code=\" + code\n",
    "headers = {\n",
    "'Accept': 'application/json',\n",
    "'Content-Type': 'application/x-www-form-urlencoded',\n",
    "'Authorization': \"Basic \" + base64_message\n",
    "}\n",
    "\n",
    "# process the results\n",
    "response = requests.request(\"POST\", url, headers=headers, data=payload, verify=False)\n",
    "access_token = json.loads(response.text)['access_token']\n",
    "refresh_token = json.loads(response.text)['refresh_token']\n",
    "print(json.dumps(response.json(), indent=4, sort_keys=True))\n",
    "\n",
    "# Create access_token.txt file \n",
    "directory = os.getcwd()\n",
    "with open(directory + '/access_token.txt', 'w') as f:\n",
    "    f.write(access_token)\n",
    "print('The access token was stored for you as ' + directory + '/access_token.txt')\n",
    "\n",
    "# Create refresh_token.txt file \n",
    "directory = os.getcwd()\n",
    "with open(directory + '/refresh_token.txt', 'w') as f:\n",
    "    f.write(refresh_token)\n",
    "print('The refresh token was stored for you as ' + directory + '/refresh_token.txt')"
   ]
  },
  {
   "cell_type": "markdown",
   "id": "e810e3a2-b4ac-4ef1-ba84-8070f15c3054",
   "metadata": {},
   "source": [
    "## Notes on the access token\n",
    "- The access token has a 12 hour time-to-live (ttl).\n",
    "- Use the refresh token to generate a new access token.\n",
    "- The refressh token has a 90 day ttl.\n",
    "- The access_token is valid in this Notebook and is transferable to other notebooks and used for external API calls."
   ]
  },
  {
   "cell_type": "code",
   "execution_count": null,
   "id": "978b59d7",
   "metadata": {},
   "outputs": [],
   "source": []
  },
  {
   "cell_type": "markdown",
   "id": "2b08357f",
   "metadata": {},
   "source": [
    "# Use the refresh token to generate a new access token"
   ]
  },
  {
   "cell_type": "code",
   "execution_count": null,
   "id": "03f38364",
   "metadata": {},
   "outputs": [],
   "source": [
    "# enccode client string\n",
    "client_string = client_id + \":\" + client_secret\n",
    "message_bytes = client_string.encode('ascii')\n",
    "base64_bytes = base64.b64encode(message_bytes)\n",
    "base64_message = base64_bytes.decode('ascii')\n",
    "\n",
    "# copy resfresh token from txtfile\n",
    "directory = os.getcwd()\n",
    "file = open(directory + \"/refresh_token.txt\")\n",
    "# read the file as a list\n",
    "refresh_token = file.readlines()\n",
    "# close the file\n",
    "file.close()\n",
    "print(refresh_token)\n",
    "type(refresh_token)\n",
    "\n",
    "url = f\"{baseURL}/SASLogon/oauth/token#refresh_token\"\n",
    "\n",
    "payload = \"grant_type=refresh_token&refresh_token=\" + ' '.join(refresh_token)\n",
    "headers = {\n",
    "  'Content-Type': 'application/x-www-form-urlencoded',\n",
    "  'Accept': 'application/json',\n",
    "  'Authorization': \"Basic \" + base64_message\n",
    "}\n",
    "\n",
    "response = requests.request(\"POST\", url, headers=headers, data=payload, verify=False)\n",
    "\n",
    "# print(response.text)\n",
    "# process the results\n",
    "response = requests.request(\"POST\", url, headers=headers, data=payload, verify=False)\n",
    "access_token = json.loads(response.text)['access_token']\n",
    "print(json.dumps(response.json(), indent=4, sort_keys=True))\n",
    "\n",
    "# Create access_token.txt file \n",
    "directory = os.getcwd()\n",
    "with open(directory + '/access_token.txt', 'w') as f:\n",
    "    f.write(access_token)\n",
    "print('The access token was stored for you as ' + directory + '/access_token.txt')"
   ]
  },
  {
   "cell_type": "markdown",
   "id": "d889433c",
   "metadata": {},
   "source": [
    "# Test connection to SAS Viya via SWAT"
   ]
  },
  {
   "cell_type": "code",
   "execution_count": 5,
   "id": "f4887fdb",
   "metadata": {},
   "outputs": [
    {
     "data": {
      "text/plain": [
       "CAS('ssemonthly.demo.sas.com', 443, protocol='https', name='py-session-1', session='e9d9df2b-7f5f-d44a-8f62-b6f7bc2acd75')"
      ]
     },
     "execution_count": 5,
     "metadata": {},
     "output_type": "execute_result"
    }
   ],
   "source": [
    "import swat\n",
    "httpconn = swat.CAS(\"https://ssemonthly.demo.sas.com/cas-shared-default-http\", username=None, password=access_token, ssl_ca_list=\"C:/code/certificate/ssemonthly-rootCA-Intermidiates_4CLI.pem\", protocol=\"https\")\n",
    "httpconn"
   ]
  },
  {
   "cell_type": "code",
   "execution_count": 6,
   "id": "446cff48",
   "metadata": {},
   "outputs": [
    {
     "data": {
      "text/plain": [
       "'eyJhbGciOiJSUzI1NiIsImprdSI6Imh0dHBzOi8vbG9jYWxob3N0L1NBU0xvZ29uL3Rva2VuX2tleXMiLCJraWQiOiJsZWdhY3ktdG9rZW4ta2V5IiwidHlwIjoiSldUIn0.eyJqdGkiOiJhNzg1NDQ4MGYwNjM0NGU5OWEzNzI4NDc2YzQyYWVhMCIsImV4dF9pZCI6InkwU3BwcXJnM0NkblpzTG5xTTRiWnVQaHBjUnhQVEh1VmtCTzFXMUZjNG8iLCJyZW1vdGVfaXAiOiIxMTMuMzUuMTA1LjM0Iiwic2Vzc2lvbl9zaWciOiJhM2RmNmY5ZS0yZTQ5LTRhMjItYjQ4Ni01MDNmZGYyYzBhMDUiLCJhdXRob3JpdGllcyI6WyJbRUVDXSBEZW1vIENlbnRlciBVc2VycyIsIkRlZmF1bHQgRGVtbyBDZW50ZXIgVXNlcnMiLCJEYXRhQnVpbGRlcnMiLCJTQVNTY29yZVVzZXJzIiwiQ2F0YWxvZy5TdWJqZWN0TWF0dGVyRXhwZXJ0cyIsIkFwcGxpY2F0aW9uQWRtaW5pc3RyYXRvcnMiLCJJQ1VzIiwiTWlncmF0aW9uQWRtaW5zIiwiRXNyaVVzZXJzIl0sInN1YiI6ImNjODg4ZGIzLWY1NDktNDlmMS05OGQzLTczMzg0MzBmMzFlZSIsInNjb3BlIjpbIm9wZW5pZCIsInVhYS51c2VyIl0sImNsaWVudF9pZCI6ImFwaS5jbGllbnQiLCJjaWQiOiJhcGkuY2xpZW50IiwiYXpwIjoiYXBpLmNsaWVudCIsImdyYW50X3R5cGUiOiJhdXRob3JpemF0aW9uX2NvZGUiLCJ1c2VyX2lkIjoiY2M4ODhkYjMtZjU0OS00OWYxLTk4ZDMtNzMzODQzMGYzMWVlIiwib3JpZ2luIjoiYXp1cmUiLCJ1c2VyX25hbWUiOiJQdWx1bmcuV2Fza2l0b0BzYXMuY29tIiwiZW1haWwiOiJQdWx1bmcuV2Fza2l0b0BzYXMuY29tIiwiYXV0aF90aW1lIjoxNzAyMzQwMDc5LCJyZXZfc2lnIjoiOGRiYThlZDgiLCJpYXQiOjE3MDIzNDAwNzksImV4cCI6MTcwMjQyNjQ3OSwiaXNzIjoiaHR0cDovL2xvY2FsaG9zdC9TQVNMb2dvbi9vYXV0aC90b2tlbiIsInppZCI6InVhYSIsImF1ZCI6WyJ1YWEiLCJvcGVuaWQiLCJhcGkuY2xpZW50Il19.AikJoUfv3FA4AtuSmGgt_dMZhu4lr0zBRpIHdUfWj2_GpMCMD6m23bzH1ZPMPReqnFpPSpBS6saN0hDDFQTyaOJN05-wv_B-nbKIsG8F2EpNtJZvDDS346hs87QxJj4NSF4_bslJU8-NBLGe8japDUqAIMDFWhZ4z-GCOZvTiRYBF5ro6V13WvuDl_ahur5Brog-qRxSVqG6xH1_j8rXLP9GTEIXkcpgFx3kgseDHSL5XkvthL3SWdnhiTqlU4aXxk7uqRBs_PiPOU99yPaQ7HEZwjQj8xfDzc_XcibH5qDxohSMbRiP_iQKGKOcc6MRpLCL9o_MlskwZvx4z66xAQ'"
      ]
     },
     "execution_count": 6,
     "metadata": {},
     "output_type": "execute_result"
    }
   ],
   "source": [
    "access_token"
   ]
  },
  {
   "cell_type": "code",
   "execution_count": null,
   "id": "8be6dac3",
   "metadata": {},
   "outputs": [],
   "source": []
  },
  {
   "cell_type": "code",
   "execution_count": 4,
   "id": "f5f2ee42",
   "metadata": {
    "scrolled": false
   },
   "outputs": [
    {
     "name": "stderr",
     "output_type": "stream",
     "text": [
      "ERROR: Failed to connect to host '20.81.59.109', port 5570.\n"
     ]
    },
    {
     "ename": "SWATError",
     "evalue": "Could not connect to '20.81.59.109' on port 5570.",
     "output_type": "error",
     "traceback": [
      "\u001b[1;31m---------------------------------------------------------------------------\u001b[0m",
      "\u001b[1;31mSystemError\u001b[0m                               Traceback (most recent call last)",
      "File \u001b[1;32m~\\AppData\\Local\\miniconda3\\envs\\ml\\Lib\\site-packages\\swat\\cas\\connection.py:441\u001b[0m, in \u001b[0;36mCAS.__init__\u001b[1;34m(self, hostname, port, username, password, session, locale, nworkers, name, authinfo, protocol, path, ssl_ca_list, authcode, **kwargs)\u001b[0m\n\u001b[0;32m    440\u001b[0m \u001b[38;5;28;01melse\u001b[39;00m:\n\u001b[1;32m--> 441\u001b[0m     \u001b[38;5;28mself\u001b[39m\u001b[38;5;241m.\u001b[39m_sw_connection \u001b[38;5;241m=\u001b[39m clib\u001b[38;5;241m.\u001b[39mSW_CASConnection(\u001b[38;5;241m*\u001b[39mparams)\n\u001b[0;32m    443\u001b[0m \u001b[38;5;66;03m# If we don't have a connection, bail out.\u001b[39;00m\n",
      "File \u001b[1;32m~\\AppData\\Local\\miniconda3\\envs\\ml\\Lib\\site-packages\\swat\\clib.py:133\u001b[0m, in \u001b[0;36mSW_CASConnection\u001b[1;34m(*args, **kwargs)\u001b[0m\n\u001b[0;32m    132\u001b[0m     _import_pyswat()\n\u001b[1;32m--> 133\u001b[0m \u001b[38;5;28;01mreturn\u001b[39;00m _pyswat\u001b[38;5;241m.\u001b[39mSW_CASConnection(\u001b[38;5;241m*\u001b[39margs, \u001b[38;5;241m*\u001b[39m\u001b[38;5;241m*\u001b[39mkwargs)\n",
      "\u001b[1;31mSystemError\u001b[0m: <class 'py311swat.SW_CASConnection'> returned NULL without setting an exception",
      "\nDuring handling of the above exception, another exception occurred:\n",
      "\u001b[1;31mSWATError\u001b[0m                                 Traceback (most recent call last)",
      "Cell \u001b[1;32mIn[4], line 2\u001b[0m\n\u001b[0;32m      1\u001b[0m \u001b[38;5;28;01mimport\u001b[39;00m \u001b[38;5;21;01mswat\u001b[39;00m\n\u001b[1;32m----> 2\u001b[0m binconn \u001b[38;5;241m=\u001b[39m swat\u001b[38;5;241m.\u001b[39mCAS(\u001b[38;5;124m\"\u001b[39m\u001b[38;5;124m20.81.59.109\u001b[39m\u001b[38;5;124m\"\u001b[39m, protocol\u001b[38;5;241m=\u001b[39m\u001b[38;5;124m\"\u001b[39m\u001b[38;5;124mcas\u001b[39m\u001b[38;5;124m\"\u001b[39m, username\u001b[38;5;241m=\u001b[39m\u001b[38;5;28;01mNone\u001b[39;00m, password\u001b[38;5;241m=\u001b[39maccess_token, ssl_ca_list\u001b[38;5;241m=\u001b[39m\u001b[38;5;124m\"\u001b[39m\u001b[38;5;124mC:/code/certificate/ssemonthly-bin.crt\u001b[39m\u001b[38;5;124m\"\u001b[39m)\n\u001b[0;32m      3\u001b[0m binconn\n",
      "File \u001b[1;32m~\\AppData\\Local\\miniconda3\\envs\\ml\\Lib\\site-packages\\swat\\cas\\connection.py:448\u001b[0m, in \u001b[0;36mCAS.__init__\u001b[1;34m(self, hostname, port, username, password, session, locale, nworkers, name, authinfo, protocol, path, ssl_ca_list, authcode, **kwargs)\u001b[0m\n\u001b[0;32m    445\u001b[0m             \u001b[38;5;28;01mraise\u001b[39;00m \u001b[38;5;167;01mSystemError\u001b[39;00m\n\u001b[0;32m    447\u001b[0m \u001b[38;5;28;01mexcept\u001b[39;00m \u001b[38;5;167;01mSystemError\u001b[39;00m:\n\u001b[1;32m--> 448\u001b[0m     \u001b[38;5;28;01mraise\u001b[39;00m SWATError(\u001b[38;5;28mself\u001b[39m\u001b[38;5;241m.\u001b[39m_sw_error\u001b[38;5;241m.\u001b[39mgetLastErrorMessage())\n\u001b[0;32m    450\u001b[0m \u001b[38;5;66;03m# Set up index origin for error messages\u001b[39;00m\n\u001b[0;32m    451\u001b[0m errorcheck(\u001b[38;5;28mself\u001b[39m\u001b[38;5;241m.\u001b[39m_sw_connection\u001b[38;5;241m.\u001b[39msetZeroIndexedParameters(), \u001b[38;5;28mself\u001b[39m\u001b[38;5;241m.\u001b[39m_sw_connection)\n",
      "\u001b[1;31mSWATError\u001b[0m: Could not connect to '20.81.59.109' on port 5570."
     ]
    }
   ],
   "source": [
    "import swat\n",
    "binconn = swat.CAS(\"20.81.59.109\", protocol=\"cas\", username=None, password=access_token, ssl_ca_list=\"C:/code/certificate/ssemonthly-bin.crt\")\n",
    "binconn"
   ]
  },
  {
   "cell_type": "markdown",
   "id": "63498600",
   "metadata": {},
   "source": [
    "# Viya Rest call from Python Notebook "
   ]
  },
  {
   "cell_type": "code",
   "execution_count": null,
   "id": "0d959250",
   "metadata": {},
   "outputs": [],
   "source": [
    "# Viya call uses hostname\n",
    "url = \"https://ssemonthly.demo.sas.com/reports/reports\"\n",
    "\n",
    "payload={}\n",
    "headers = {\n",
    "  'Authorization': 'Bearer ' + access_token\n",
    "}\n",
    "\n",
    "response = requests.request(\"GET\", url, headers=headers, data=payload, verify=False).json()\n",
    "\n",
    "print(response)"
   ]
  },
  {
   "cell_type": "markdown",
   "id": "57b73929",
   "metadata": {},
   "source": [
    "# CAS REST call from Python Notebook"
   ]
  },
  {
   "cell_type": "code",
   "execution_count": null,
   "id": "92490500",
   "metadata": {},
   "outputs": [],
   "source": [
    "# CAS call uses ip addr\n",
    "url= \"https://20.237.68.50:443/cas-shared-default-http/cas/sessions\"\n",
    "\n",
    "\n",
    "payload={}\n",
    "headers = {\n",
    "  'Authorization': 'Bearer ' + access_token\n",
    "}\n",
    "\n",
    "response = requests.request(\"POST\", url, headers=headers, data=payload, verify=False).json()\n",
    "\n",
    "print(response)"
   ]
  },
  {
   "cell_type": "code",
   "execution_count": null,
   "id": "c76fa134",
   "metadata": {},
   "outputs": [],
   "source": []
  },
  {
   "cell_type": "code",
   "execution_count": null,
   "id": "8fe63a91",
   "metadata": {},
   "outputs": [],
   "source": []
  }
 ],
 "metadata": {
  "kernelspec": {
   "display_name": "Python 3 (ipykernel)",
   "language": "python",
   "name": "python3"
  },
  "language_info": {
   "codemirror_mode": {
    "name": "ipython",
    "version": 3
   },
   "file_extension": ".py",
   "mimetype": "text/x-python",
   "name": "python",
   "nbconvert_exporter": "python",
   "pygments_lexer": "ipython3",
   "version": "3.11.5"
  }
 },
 "nbformat": 4,
 "nbformat_minor": 5
}

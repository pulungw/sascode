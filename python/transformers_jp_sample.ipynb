{
 "cells": [
  {
   "cell_type": "code",
   "execution_count": 13,
   "id": "044bcdc4",
   "metadata": {},
   "outputs": [],
   "source": [
    "import torch\n",
    "from transformers import AutoTokenizer, AutoModelForMaskedLM\n",
    "from fugashi import Tagger"
   ]
  },
  {
   "cell_type": "code",
   "execution_count": 14,
   "id": "2dc412bf",
   "metadata": {},
   "outputs": [],
   "source": [
    "def preprocessing_text(text):\n",
    "    tagger = Tagger('-Owakati')\n",
    "    parsed_text = tagger.parse(text)\n",
    "    parsed_text = parsed_text.replace(\"[ MASK ]\", \"[MASK]\")\n",
    "    return parsed_text"
   ]
  },
  {
   "cell_type": "code",
   "execution_count": 15,
   "id": "4eeb5ad2",
   "metadata": {},
   "outputs": [
    {
     "name": "stdout",
     "output_type": "stream",
     "text": [
      "京都大学で自然言語処理を[MASK]する。\n",
      "京都 大学 で 自然 言語 処理 を [MASK] する 。\n"
     ]
    }
   ],
   "source": [
    "text = \"京都大学で自然言語処理を[MASK]する。\"\n",
    "\n",
    "# parse text using fugashi(mecab+unidic-lite)\n",
    "input_text = preprocessing_text(text)\n",
    "\n",
    "print(text)\n",
    "print(input_text)"
   ]
  },
  {
   "cell_type": "code",
   "execution_count": 16,
   "id": "6c1eec3f",
   "metadata": {},
   "outputs": [],
   "source": [
    "# import japanese language model from huggingface\n",
    "# tokenizer = AutoTokenizer.from_pretrained('ku-nlp/deberta-v2-base-japanese')\n",
    "# model = AutoModelForMaskedLM.from_pretrained('ku-nlp/deberta-v2-base-japanese')"
   ]
  },
  {
   "cell_type": "code",
   "execution_count": 17,
   "id": "be52c94b",
   "metadata": {},
   "outputs": [],
   "source": [
    "# import japanese language model from local file\n",
    "tokenizer = AutoTokenizer.from_pretrained('C:/code/viya4-implementation-of-japanese-ner-model/asset/model')\n",
    "model = AutoModelForMaskedLM.from_pretrained('C:/code/viya4-implementation-of-japanese-ner-model/asset/model')"
   ]
  },
  {
   "cell_type": "code",
   "execution_count": 18,
   "id": "0e492f3b",
   "metadata": {},
   "outputs": [],
   "source": [
    "encoding = tokenizer(input_text, return_tensors='pt')\n",
    "input_ids = encoding.input_ids\n",
    "masked_index = torch.where(input_ids == tokenizer.mask_token_id)[1].tolist()[0]\n",
    "result = model(encoding.input_ids)\n",
    "\n",
    "pred_list = []\n",
    "pred_ids = result[0][:, masked_index].topk(5).indices.tolist()[0]\n",
    "for pred_id in pred_ids:\n",
    "    output_ids = input_ids.tolist()[0]\n",
    "    output_ids[masked_index] = pred_id\n",
    "    pred_list.append(tokenizer.decode(output_ids))"
   ]
  },
  {
   "cell_type": "code",
   "execution_count": 20,
   "id": "1d9f32da",
   "metadata": {},
   "outputs": [
    {
     "name": "stdout",
     "output_type": "stream",
     "text": [
      "['[CLS] 京都 大学 で 自然 言語 処理 を 専攻 する 。[SEP]', '[CLS] 京都 大学 で 自然 言語 処理 を 研究 する 。[SEP]', '[CLS] 京都 大学 で 自然 言語 処理 を 勉強 する 。[SEP]', '[CLS] 京都 大学 で 自然 言語 処理 を 履修 する 。[SEP]', '[CLS] 京都 大学 で 自然 言語 処理 を 担当 する 。[SEP]']\n"
     ]
    }
   ],
   "source": [
    "print(pred_list)"
   ]
  },
  {
   "cell_type": "code",
   "execution_count": null,
   "id": "dcecbb13",
   "metadata": {},
   "outputs": [],
   "source": []
  }
 ],
 "metadata": {
  "kernelspec": {
   "display_name": "Python 3 (ipykernel)",
   "language": "python",
   "name": "python3"
  },
  "language_info": {
   "codemirror_mode": {
    "name": "ipython",
    "version": 3
   },
   "file_extension": ".py",
   "mimetype": "text/x-python",
   "name": "python",
   "nbconvert_exporter": "python",
   "pygments_lexer": "ipython3",
   "version": "3.11.5"
  }
 },
 "nbformat": 4,
 "nbformat_minor": 5
}

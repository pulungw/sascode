{
 "cells": [
  {
   "cell_type": "code",
   "execution_count": 1,
   "id": "0da0721d",
   "metadata": {},
   "outputs": [],
   "source": [
    "import sys\n",
    "\n",
    "# For hiding passwords\n",
    "import getpass\n",
    "\n",
    "# For working with data\n",
    "import numpy as np\n",
    "import pandas as pd\n",
    "from sklearn.model_selection import train_test_split\n",
    "from sklearn.preprocessing import OneHotEncoder\n",
    "from sklearn.pipeline import Pipeline\n",
    "from sklearn.compose import ColumnTransformer\n",
    "\n",
    "# For building models\n",
    "from sklearn.linear_model import LogisticRegression\n",
    "from xgboost import XGBClassifier\n",
    "import mlflow\n",
    "from mlflow.models.signature import infer_signature\n",
    "from sklearn.ensemble import RandomForestClassifier\n",
    "import tensorflow as tf\n",
    "\n",
    "# Ignoring user warning\n",
    "import warnings\n",
    "# warnings.filterwarnings(action='ignore', category=UserWarning)\n",
    "# warnings.filterwarnings(action='ignore', category=FutureWarning)\n",
    "warnings.filterwarnings(\"ignore\")\n",
    "\n",
    "# For registering models\n",
    "from sasctl import publish_model, pzmm, Session\n",
    "from pathlib import Path\n",
    "import os\n",
    "import requests\n",
    "import json"
   ]
  },
  {
   "cell_type": "code",
   "execution_count": 2,
   "id": "f487284a",
   "metadata": {},
   "outputs": [],
   "source": [
    "# Import data\n",
    "data = pd.read_csv(\"./data/Detailed_Statistics_Arrivals.csv\")"
   ]
  },
  {
   "cell_type": "code",
   "execution_count": 3,
   "id": "eb11b8de",
   "metadata": {},
   "outputs": [
    {
     "data": {
      "text/html": [
       "<div>\n",
       "<style scoped>\n",
       "    .dataframe tbody tr th:only-of-type {\n",
       "        vertical-align: middle;\n",
       "    }\n",
       "\n",
       "    .dataframe tbody tr th {\n",
       "        vertical-align: top;\n",
       "    }\n",
       "\n",
       "    .dataframe thead th {\n",
       "        text-align: right;\n",
       "    }\n",
       "</style>\n",
       "<table border=\"1\" class=\"dataframe\">\n",
       "  <thead>\n",
       "    <tr style=\"text-align: right;\">\n",
       "      <th></th>\n",
       "      <th>Carrier</th>\n",
       "      <th>Date</th>\n",
       "      <th>FlightNumber</th>\n",
       "      <th>TailNumber</th>\n",
       "      <th>OriginAirport</th>\n",
       "      <th>ScheduledArrival</th>\n",
       "      <th>ActualArrival</th>\n",
       "      <th>ScheduledElapsedTime</th>\n",
       "      <th>ActualElapsedTime</th>\n",
       "      <th>ArrivalDelay</th>\n",
       "      <th>WheelsOnTime</th>\n",
       "      <th>TaxiInTime</th>\n",
       "      <th>DelayCarrier</th>\n",
       "      <th>DelayWeather</th>\n",
       "      <th>DelayNAS</th>\n",
       "      <th>DelaySecurity</th>\n",
       "      <th>DelayLateAircraftArrival</th>\n",
       "    </tr>\n",
       "  </thead>\n",
       "  <tbody>\n",
       "    <tr>\n",
       "      <th>0</th>\n",
       "      <td>AA</td>\n",
       "      <td>09/01/2022</td>\n",
       "      <td>317</td>\n",
       "      <td>N904AA</td>\n",
       "      <td>DFW</td>\n",
       "      <td>22:27</td>\n",
       "      <td>00:18</td>\n",
       "      <td>167</td>\n",
       "      <td>161</td>\n",
       "      <td>111</td>\n",
       "      <td>00:10</td>\n",
       "      <td>8</td>\n",
       "      <td>0</td>\n",
       "      <td>81</td>\n",
       "      <td>0</td>\n",
       "      <td>0</td>\n",
       "      <td>30</td>\n",
       "    </tr>\n",
       "    <tr>\n",
       "      <th>1</th>\n",
       "      <td>AA</td>\n",
       "      <td>09/01/2022</td>\n",
       "      <td>425</td>\n",
       "      <td>N934AA</td>\n",
       "      <td>PHX</td>\n",
       "      <td>21:38</td>\n",
       "      <td>21:50</td>\n",
       "      <td>71</td>\n",
       "      <td>63</td>\n",
       "      <td>12</td>\n",
       "      <td>21:43</td>\n",
       "      <td>7</td>\n",
       "      <td>0</td>\n",
       "      <td>0</td>\n",
       "      <td>0</td>\n",
       "      <td>0</td>\n",
       "      <td>0</td>\n",
       "    </tr>\n",
       "    <tr>\n",
       "      <th>2</th>\n",
       "      <td>AA</td>\n",
       "      <td>09/01/2022</td>\n",
       "      <td>739</td>\n",
       "      <td>N997AA</td>\n",
       "      <td>LAX</td>\n",
       "      <td>18:49</td>\n",
       "      <td>18:53</td>\n",
       "      <td>74</td>\n",
       "      <td>79</td>\n",
       "      <td>4</td>\n",
       "      <td>18:49</td>\n",
       "      <td>4</td>\n",
       "      <td>0</td>\n",
       "      <td>0</td>\n",
       "      <td>0</td>\n",
       "      <td>0</td>\n",
       "      <td>0</td>\n",
       "    </tr>\n",
       "    <tr>\n",
       "      <th>3</th>\n",
       "      <td>AA</td>\n",
       "      <td>09/01/2022</td>\n",
       "      <td>750</td>\n",
       "      <td>N537UW</td>\n",
       "      <td>CLT</td>\n",
       "      <td>16:09</td>\n",
       "      <td>15:54</td>\n",
       "      <td>276</td>\n",
       "      <td>268</td>\n",
       "      <td>-15</td>\n",
       "      <td>15:39</td>\n",
       "      <td>15</td>\n",
       "      <td>0</td>\n",
       "      <td>0</td>\n",
       "      <td>0</td>\n",
       "      <td>0</td>\n",
       "      <td>0</td>\n",
       "    </tr>\n",
       "    <tr>\n",
       "      <th>4</th>\n",
       "      <td>AA</td>\n",
       "      <td>09/01/2022</td>\n",
       "      <td>862</td>\n",
       "      <td>N323RM</td>\n",
       "      <td>PHX</td>\n",
       "      <td>18:01</td>\n",
       "      <td>17:54</td>\n",
       "      <td>70</td>\n",
       "      <td>70</td>\n",
       "      <td>-7</td>\n",
       "      <td>17:48</td>\n",
       "      <td>6</td>\n",
       "      <td>0</td>\n",
       "      <td>0</td>\n",
       "      <td>0</td>\n",
       "      <td>0</td>\n",
       "      <td>0</td>\n",
       "    </tr>\n",
       "  </tbody>\n",
       "</table>\n",
       "</div>"
      ],
      "text/plain": [
       "  Carrier        Date  FlightNumber TailNumber OriginAirport ScheduledArrival  \\\n",
       "0      AA  09/01/2022           317     N904AA           DFW            22:27   \n",
       "1      AA  09/01/2022           425     N934AA           PHX            21:38   \n",
       "2      AA  09/01/2022           739     N997AA           LAX            18:49   \n",
       "3      AA  09/01/2022           750     N537UW           CLT            16:09   \n",
       "4      AA  09/01/2022           862     N323RM           PHX            18:01   \n",
       "\n",
       "  ActualArrival  ScheduledElapsedTime  ActualElapsedTime  ArrivalDelay  \\\n",
       "0         00:18                   167                161           111   \n",
       "1         21:50                    71                 63            12   \n",
       "2         18:53                    74                 79             4   \n",
       "3         15:54                   276                268           -15   \n",
       "4         17:54                    70                 70            -7   \n",
       "\n",
       "  WheelsOnTime  TaxiInTime  DelayCarrier  DelayWeather  DelayNAS  \\\n",
       "0        00:10           8             0            81         0   \n",
       "1        21:43           7             0             0         0   \n",
       "2        18:49           4             0             0         0   \n",
       "3        15:39          15             0             0         0   \n",
       "4        17:48           6             0             0         0   \n",
       "\n",
       "   DelaySecurity  DelayLateAircraftArrival  \n",
       "0              0                        30  \n",
       "1              0                         0  \n",
       "2              0                         0  \n",
       "3              0                         0  \n",
       "4              0                         0  "
      ]
     },
     "execution_count": 3,
     "metadata": {},
     "output_type": "execute_result"
    }
   ],
   "source": [
    "data.head()"
   ]
  },
  {
   "cell_type": "code",
   "execution_count": 4,
   "id": "ee989d8c",
   "metadata": {},
   "outputs": [
    {
     "data": {
      "text/plain": [
       "Carrier                     object\n",
       "Date                        object\n",
       "FlightNumber                 int64\n",
       "TailNumber                  object\n",
       "OriginAirport               object\n",
       "ScheduledArrival            object\n",
       "ActualArrival               object\n",
       "ScheduledElapsedTime         int64\n",
       "ActualElapsedTime            int64\n",
       "ArrivalDelay                 int64\n",
       "WheelsOnTime                object\n",
       "TaxiInTime                   int64\n",
       "DelayCarrier                 int64\n",
       "DelayWeather                 int64\n",
       "DelayNAS                     int64\n",
       "DelaySecurity                int64\n",
       "DelayLateAircraftArrival     int64\n",
       "dtype: object"
      ]
     },
     "execution_count": 4,
     "metadata": {},
     "output_type": "execute_result"
    }
   ],
   "source": [
    "data.dtypes"
   ]
  },
  {
   "cell_type": "code",
   "execution_count": 5,
   "id": "f59f8598",
   "metadata": {},
   "outputs": [],
   "source": [
    "# Remap Airline Names\n",
    "dict = {\"AA\" : 'American Airlines', \n",
    "        \"AS\" : 'Alaska Airlines', \n",
    "        \"B6\": 'JetBlue Airways', \n",
    "        \"DL\" : 'Delta Airlines', \n",
    "        \"F9\": 'Frontier Airlines',\n",
    "        \"NK\": 'Spirit Airlines',\n",
    "        \"WN\": 'Southwest Airlines'}\n",
    "\n",
    "data = data.replace({\"Carrier\": dict})"
   ]
  },
  {
   "cell_type": "code",
   "execution_count": 6,
   "id": "56aecb47",
   "metadata": {},
   "outputs": [],
   "source": [
    "# Clean up date columns\n",
    "data['DayofMonth'] = pd.to_datetime(data['Date'], format='%m/%d/%Y').dt.day\n",
    "data['ScheduledArrivalDatetime'] = pd.to_datetime((data['Date']) + data['ScheduledArrival'], format='%m/%d/%Y%H:%M')"
   ]
  },
  {
   "cell_type": "code",
   "execution_count": 7,
   "id": "ec3e6b78",
   "metadata": {},
   "outputs": [],
   "source": [
    "# Create Delay\n",
    "data['Delay'] = np.where(data['ArrivalDelay'] > 15, 1, 0)"
   ]
  },
  {
   "cell_type": "code",
   "execution_count": 8,
   "id": "829a660f",
   "metadata": {},
   "outputs": [],
   "source": [
    "# Create Departure Time\n",
    "data['DepartureDatetime'] = data['ScheduledArrivalDatetime'] - pd.to_timedelta(data['ScheduledElapsedTime'], unit='minute')\n",
    "\n",
    "# Extract Arrival and Departure Hour\n",
    "data['ArrivalHour'] = pd.to_datetime(data['ScheduledArrivalDatetime']).dt.hour\n",
    "data['DepartureHour'] = pd.to_datetime(data['DepartureDatetime']).dt.hour"
   ]
  },
  {
   "cell_type": "code",
   "execution_count": 9,
   "id": "d19249d8",
   "metadata": {},
   "outputs": [],
   "source": [
    "# Clean up time columns\n",
    "data = data.replace({'24:00': '23:59'})\n",
    "data['ScheduledArrival'] = pd.to_datetime(data['ScheduledArrival'], format='%H:%M').dt.time\n",
    "data['ActualArrival'] = pd.to_datetime(data['ActualArrival'], format='%H:%M').dt.time\n",
    "data['DepartureTime'] = pd.to_datetime(data['DepartureDatetime'], format='%H:%M').dt.time"
   ]
  },
  {
   "cell_type": "code",
   "execution_count": 10,
   "id": "db660ca3",
   "metadata": {},
   "outputs": [
    {
     "data": {
      "text/html": [
       "<div>\n",
       "<style scoped>\n",
       "    .dataframe tbody tr th:only-of-type {\n",
       "        vertical-align: middle;\n",
       "    }\n",
       "\n",
       "    .dataframe tbody tr th {\n",
       "        vertical-align: top;\n",
       "    }\n",
       "\n",
       "    .dataframe thead th {\n",
       "        text-align: right;\n",
       "    }\n",
       "</style>\n",
       "<table border=\"1\" class=\"dataframe\">\n",
       "  <thead>\n",
       "    <tr style=\"text-align: right;\">\n",
       "      <th></th>\n",
       "      <th>Carrier</th>\n",
       "      <th>Date</th>\n",
       "      <th>FlightNumber</th>\n",
       "      <th>TailNumber</th>\n",
       "      <th>OriginAirport</th>\n",
       "      <th>ScheduledArrival</th>\n",
       "      <th>ActualArrival</th>\n",
       "      <th>ScheduledElapsedTime</th>\n",
       "      <th>ActualElapsedTime</th>\n",
       "      <th>ArrivalDelay</th>\n",
       "      <th>...</th>\n",
       "      <th>DelayNAS</th>\n",
       "      <th>DelaySecurity</th>\n",
       "      <th>DelayLateAircraftArrival</th>\n",
       "      <th>DayofMonth</th>\n",
       "      <th>ScheduledArrivalDatetime</th>\n",
       "      <th>Delay</th>\n",
       "      <th>DepartureDatetime</th>\n",
       "      <th>ArrivalHour</th>\n",
       "      <th>DepartureHour</th>\n",
       "      <th>DepartureTime</th>\n",
       "    </tr>\n",
       "  </thead>\n",
       "  <tbody>\n",
       "    <tr>\n",
       "      <th>0</th>\n",
       "      <td>American Airlines</td>\n",
       "      <td>09/01/2022</td>\n",
       "      <td>317</td>\n",
       "      <td>N904AA</td>\n",
       "      <td>DFW</td>\n",
       "      <td>22:27:00</td>\n",
       "      <td>00:18:00</td>\n",
       "      <td>167</td>\n",
       "      <td>161</td>\n",
       "      <td>111</td>\n",
       "      <td>...</td>\n",
       "      <td>0</td>\n",
       "      <td>0</td>\n",
       "      <td>30</td>\n",
       "      <td>1</td>\n",
       "      <td>2022-09-01 22:27:00</td>\n",
       "      <td>1</td>\n",
       "      <td>2022-09-01 19:40:00</td>\n",
       "      <td>22</td>\n",
       "      <td>19</td>\n",
       "      <td>19:40:00</td>\n",
       "    </tr>\n",
       "    <tr>\n",
       "      <th>1</th>\n",
       "      <td>American Airlines</td>\n",
       "      <td>09/01/2022</td>\n",
       "      <td>425</td>\n",
       "      <td>N934AA</td>\n",
       "      <td>PHX</td>\n",
       "      <td>21:38:00</td>\n",
       "      <td>21:50:00</td>\n",
       "      <td>71</td>\n",
       "      <td>63</td>\n",
       "      <td>12</td>\n",
       "      <td>...</td>\n",
       "      <td>0</td>\n",
       "      <td>0</td>\n",
       "      <td>0</td>\n",
       "      <td>1</td>\n",
       "      <td>2022-09-01 21:38:00</td>\n",
       "      <td>0</td>\n",
       "      <td>2022-09-01 20:27:00</td>\n",
       "      <td>21</td>\n",
       "      <td>20</td>\n",
       "      <td>20:27:00</td>\n",
       "    </tr>\n",
       "    <tr>\n",
       "      <th>2</th>\n",
       "      <td>American Airlines</td>\n",
       "      <td>09/01/2022</td>\n",
       "      <td>739</td>\n",
       "      <td>N997AA</td>\n",
       "      <td>LAX</td>\n",
       "      <td>18:49:00</td>\n",
       "      <td>18:53:00</td>\n",
       "      <td>74</td>\n",
       "      <td>79</td>\n",
       "      <td>4</td>\n",
       "      <td>...</td>\n",
       "      <td>0</td>\n",
       "      <td>0</td>\n",
       "      <td>0</td>\n",
       "      <td>1</td>\n",
       "      <td>2022-09-01 18:49:00</td>\n",
       "      <td>0</td>\n",
       "      <td>2022-09-01 17:35:00</td>\n",
       "      <td>18</td>\n",
       "      <td>17</td>\n",
       "      <td>17:35:00</td>\n",
       "    </tr>\n",
       "    <tr>\n",
       "      <th>3</th>\n",
       "      <td>American Airlines</td>\n",
       "      <td>09/01/2022</td>\n",
       "      <td>750</td>\n",
       "      <td>N537UW</td>\n",
       "      <td>CLT</td>\n",
       "      <td>16:09:00</td>\n",
       "      <td>15:54:00</td>\n",
       "      <td>276</td>\n",
       "      <td>268</td>\n",
       "      <td>-15</td>\n",
       "      <td>...</td>\n",
       "      <td>0</td>\n",
       "      <td>0</td>\n",
       "      <td>0</td>\n",
       "      <td>1</td>\n",
       "      <td>2022-09-01 16:09:00</td>\n",
       "      <td>0</td>\n",
       "      <td>2022-09-01 11:33:00</td>\n",
       "      <td>16</td>\n",
       "      <td>11</td>\n",
       "      <td>11:33:00</td>\n",
       "    </tr>\n",
       "    <tr>\n",
       "      <th>4</th>\n",
       "      <td>American Airlines</td>\n",
       "      <td>09/01/2022</td>\n",
       "      <td>862</td>\n",
       "      <td>N323RM</td>\n",
       "      <td>PHX</td>\n",
       "      <td>18:01:00</td>\n",
       "      <td>17:54:00</td>\n",
       "      <td>70</td>\n",
       "      <td>70</td>\n",
       "      <td>-7</td>\n",
       "      <td>...</td>\n",
       "      <td>0</td>\n",
       "      <td>0</td>\n",
       "      <td>0</td>\n",
       "      <td>1</td>\n",
       "      <td>2022-09-01 18:01:00</td>\n",
       "      <td>0</td>\n",
       "      <td>2022-09-01 16:51:00</td>\n",
       "      <td>18</td>\n",
       "      <td>16</td>\n",
       "      <td>16:51:00</td>\n",
       "    </tr>\n",
       "  </tbody>\n",
       "</table>\n",
       "<p>5 rows × 24 columns</p>\n",
       "</div>"
      ],
      "text/plain": [
       "             Carrier        Date  FlightNumber TailNumber OriginAirport  \\\n",
       "0  American Airlines  09/01/2022           317     N904AA           DFW   \n",
       "1  American Airlines  09/01/2022           425     N934AA           PHX   \n",
       "2  American Airlines  09/01/2022           739     N997AA           LAX   \n",
       "3  American Airlines  09/01/2022           750     N537UW           CLT   \n",
       "4  American Airlines  09/01/2022           862     N323RM           PHX   \n",
       "\n",
       "  ScheduledArrival ActualArrival  ScheduledElapsedTime  ActualElapsedTime  \\\n",
       "0         22:27:00      00:18:00                   167                161   \n",
       "1         21:38:00      21:50:00                    71                 63   \n",
       "2         18:49:00      18:53:00                    74                 79   \n",
       "3         16:09:00      15:54:00                   276                268   \n",
       "4         18:01:00      17:54:00                    70                 70   \n",
       "\n",
       "   ArrivalDelay  ... DelayNAS  DelaySecurity  DelayLateAircraftArrival  \\\n",
       "0           111  ...        0              0                        30   \n",
       "1            12  ...        0              0                         0   \n",
       "2             4  ...        0              0                         0   \n",
       "3           -15  ...        0              0                         0   \n",
       "4            -7  ...        0              0                         0   \n",
       "\n",
       "   DayofMonth  ScheduledArrivalDatetime  Delay   DepartureDatetime  \\\n",
       "0           1       2022-09-01 22:27:00      1 2022-09-01 19:40:00   \n",
       "1           1       2022-09-01 21:38:00      0 2022-09-01 20:27:00   \n",
       "2           1       2022-09-01 18:49:00      0 2022-09-01 17:35:00   \n",
       "3           1       2022-09-01 16:09:00      0 2022-09-01 11:33:00   \n",
       "4           1       2022-09-01 18:01:00      0 2022-09-01 16:51:00   \n",
       "\n",
       "   ArrivalHour DepartureHour  DepartureTime  \n",
       "0           22            19       19:40:00  \n",
       "1           21            20       20:27:00  \n",
       "2           18            17       17:35:00  \n",
       "3           16            11       11:33:00  \n",
       "4           18            16       16:51:00  \n",
       "\n",
       "[5 rows x 24 columns]"
      ]
     },
     "execution_count": 10,
     "metadata": {},
     "output_type": "execute_result"
    }
   ],
   "source": [
    "data.head()"
   ]
  },
  {
   "cell_type": "code",
   "execution_count": 11,
   "id": "c4c43266",
   "metadata": {},
   "outputs": [
    {
     "data": {
      "text/plain": [
       "Carrier                      0\n",
       "Date                         0\n",
       "FlightNumber                 0\n",
       "TailNumber                  35\n",
       "OriginAirport                0\n",
       "ScheduledArrival             0\n",
       "ActualArrival                0\n",
       "ScheduledElapsedTime         0\n",
       "ActualElapsedTime            0\n",
       "ArrivalDelay                 0\n",
       "WheelsOnTime                 0\n",
       "TaxiInTime                   0\n",
       "DelayCarrier                 0\n",
       "DelayWeather                 0\n",
       "DelayNAS                     0\n",
       "DelaySecurity                0\n",
       "DelayLateAircraftArrival     0\n",
       "DayofMonth                   0\n",
       "ScheduledArrivalDatetime     0\n",
       "Delay                        0\n",
       "DepartureDatetime            0\n",
       "ArrivalHour                  0\n",
       "DepartureHour                0\n",
       "DepartureTime                0\n",
       "dtype: int64"
      ]
     },
     "execution_count": 11,
     "metadata": {},
     "output_type": "execute_result"
    }
   ],
   "source": [
    "data.isnull().sum()"
   ]
  },
  {
   "cell_type": "code",
   "execution_count": 12,
   "id": "5a59db76",
   "metadata": {},
   "outputs": [
    {
     "data": {
      "text/plain": [
       "<Axes: xlabel='OriginAirport'>"
      ]
     },
     "execution_count": 12,
     "metadata": {},
     "output_type": "execute_result"
    },
    {
     "data": {
      "image/png": "[encoded data removed]",
      "text/plain": [
       "<Figure size 640x480 with 1 Axes>"
      ]
     },
     "metadata": {},
     "output_type": "display_data"
    }
   ],
   "source": [
    "data['OriginAirport'].value_counts()[:20].plot(kind='bar', xlabel='OriginAirport')"
   ]
  },
  {
   "cell_type": "code",
   "execution_count": 13,
   "id": "8ae91a05",
   "metadata": {},
   "outputs": [
    {
     "name": "stdout",
     "output_type": "stream",
     "text": [
      "There are 83 unique origin airports in this dataset.\n",
      "There were 63 direct flights from RDU.\n"
     ]
    }
   ],
   "source": [
    "print(\"There are\", data['OriginAirport'].nunique(), \"unique origin airports in this dataset.\")\n",
    "\n",
    "print(\"There were\", data[data['OriginAirport'] == 'RDU'].shape[0], \"direct flights from RDU.\")"
   ]
  },
  {
   "cell_type": "code",
   "execution_count": 14,
   "id": "153528ae",
   "metadata": {},
   "outputs": [
    {
     "data": {
      "text/plain": [
       "<Axes: xlabel='Carrier'>"
      ]
     },
     "execution_count": 14,
     "metadata": {},
     "output_type": "execute_result"
    },
    {
     "data": {
      "image/png": "[encoded data removed]",
      "text/plain": [
       "<Figure size 640x480 with 1 Axes>"
      ]
     },
     "metadata": {},
     "output_type": "display_data"
    }
   ],
   "source": [
    "pd.concat([data['Carrier'].value_counts(), data.groupby('Carrier')['Delay'].sum()], axis=1).plot.bar(xlabel='Carrier')"
   ]
  },
  {
   "cell_type": "code",
   "execution_count": 15,
   "id": "0e43c7f0",
   "metadata": {},
   "outputs": [
    {
     "name": "stdout",
     "output_type": "stream",
     "text": [
      "22.94 % of flights were delayed\n"
     ]
    }
   ],
   "source": [
    "print(round(data['Delay'].sum() / len(data)* 100, 2), \"% of flights were delayed\")"
   ]
  },
  {
   "cell_type": "code",
   "execution_count": 16,
   "id": "c25af495",
   "metadata": {},
   "outputs": [],
   "source": [
    "# Output data to file\n",
    "data.to_csv('./data/Detailed_Statistics_Arrivals_DM.csv')"
   ]
  },
  {
   "cell_type": "code",
   "execution_count": 16,
   "id": "1a9a7e51",
   "metadata": {},
   "outputs": [],
   "source": [
    "# Specify inputs and target\n",
    "inputs = ['Carrier', 'DayofMonth', 'OriginAirport', 'ScheduledElapsedTime', 'ArrivalHour', 'DepartureHour']\n",
    "target = 'Delay'\n",
    "\n",
    "# Create X and y datasets\n",
    "X = data[inputs]\n",
    "y = data[target]"
   ]
  },
  {
   "cell_type": "code",
   "execution_count": 17,
   "id": "cd8da5cb",
   "metadata": {},
   "outputs": [],
   "source": [
    "# Separate training and test set\n",
    "X_train, X_test, y_train, y_test = train_test_split(X, y, test_size=0.3, random_state=42)"
   ]
  },
  {
   "cell_type": "code",
   "execution_count": 18,
   "id": "d3cdec52",
   "metadata": {},
   "outputs": [],
   "source": [
    "# Create one-hot-encoding step\n",
    "cat_cols = ['Carrier', 'OriginAirport']\n",
    "cat_onehot_step = ('onehot', OneHotEncoder(sparse=False, handle_unknown='ignore'))\n",
    "cat_pipe = Pipeline([cat_onehot_step])\n",
    "ct = ColumnTransformer(transformers=[('cat', cat_pipe, cat_cols)])"
   ]
  },
  {
   "cell_type": "code",
   "execution_count": 19,
   "id": "e9cf0629",
   "metadata": {},
   "outputs": [
    {
     "data": {
      "text/html": [
       "<style>#sk-container-id-1 {color: black;background-color: white;}#sk-container-id-1 pre{padding: 0;}#sk-container-id-1 div.sk-toggleable {background-color: white;}#sk-container-id-1 label.sk-toggleable__label {cursor: pointer;display: block;width: 100%;margin-bottom: 0;padding: 0.3em;box-sizing: border-box;text-align: center;}#sk-container-id-1 label.sk-toggleable__label-arrow:before {content: \"▸\";float: left;margin-right: 0.25em;color: #696969;}#sk-container-id-1 label.sk-toggleable__label-arrow:hover:before {color: black;}#sk-container-id-1 div.sk-estimator:hover label.sk-toggleable__label-arrow:before {color: black;}#sk-container-id-1 div.sk-toggleable__content {max-height: 0;max-width: 0;overflow: hidden;text-align: left;background-color: #f0f8ff;}#sk-container-id-1 div.sk-toggleable__content pre {margin: 0.2em;color: black;border-radius: 0.25em;background-color: #f0f8ff;}#sk-container-id-1 input.sk-toggleable__control:checked~div.sk-toggleable__content {max-height: 200px;max-width: 100%;overflow: auto;}#sk-container-id-1 input.sk-toggleable__control:checked~label.sk-toggleable__label-arrow:before {content: \"▾\";}#sk-container-id-1 div.sk-estimator input.sk-toggleable__control:checked~label.sk-toggleable__label {background-color: #d4ebff;}#sk-container-id-1 div.sk-label input.sk-toggleable__control:checked~label.sk-toggleable__label {background-color: #d4ebff;}#sk-container-id-1 input.sk-hidden--visually {border: 0;clip: rect(1px 1px 1px 1px);clip: rect(1px, 1px, 1px, 1px);height: 1px;margin: -1px;overflow: hidden;padding: 0;position: absolute;width: 1px;}#sk-container-id-1 div.sk-estimator {font-family: monospace;background-color: #f0f8ff;border: 1px dotted black;border-radius: 0.25em;box-sizing: border-box;margin-bottom: 0.5em;}#sk-container-id-1 div.sk-estimator:hover {background-color: #d4ebff;}#sk-container-id-1 div.sk-parallel-item::after {content: \"\";width: 100%;border-bottom: 1px solid gray;flex-grow: 1;}#sk-container-id-1 div.sk-label:hover label.sk-toggleable__label {background-color: #d4ebff;}#sk-container-id-1 div.sk-serial::before {content: \"\";position: absolute;border-left: 1px solid gray;box-sizing: border-box;top: 0;bottom: 0;left: 50%;z-index: 0;}#sk-container-id-1 div.sk-serial {display: flex;flex-direction: column;align-items: center;background-color: white;padding-right: 0.2em;padding-left: 0.2em;position: relative;}#sk-container-id-1 div.sk-item {position: relative;z-index: 1;}#sk-container-id-1 div.sk-parallel {display: flex;align-items: stretch;justify-content: center;background-color: white;position: relative;}#sk-container-id-1 div.sk-item::before, #sk-container-id-1 div.sk-parallel-item::before {content: \"\";position: absolute;border-left: 1px solid gray;box-sizing: border-box;top: 0;bottom: 0;left: 50%;z-index: -1;}#sk-container-id-1 div.sk-parallel-item {display: flex;flex-direction: column;z-index: 1;position: relative;background-color: white;}#sk-container-id-1 div.sk-parallel-item:first-child::after {align-self: flex-end;width: 50%;}#sk-container-id-1 div.sk-parallel-item:last-child::after {align-self: flex-start;width: 50%;}#sk-container-id-1 div.sk-parallel-item:only-child::after {width: 0;}#sk-container-id-1 div.sk-dashed-wrapped {border: 1px dashed gray;margin: 0 0.4em 0.5em 0.4em;box-sizing: border-box;padding-bottom: 0.4em;background-color: white;}#sk-container-id-1 div.sk-label label {font-family: monospace;font-weight: bold;display: inline-block;line-height: 1.2em;}#sk-container-id-1 div.sk-label-container {text-align: center;}#sk-container-id-1 div.sk-container {/* jupyter's `normalize.less` sets `[hidden] { display: none; }` but bootstrap.min.css set `[hidden] { display: none !important; }` so we also need the `!important` here to be able to override the default hidden behavior on the sphinx rendered scikit-learn.org. See: https://github.com/scikit-learn/scikit-learn/issues/21755 */display: inline-block !important;position: relative;}#sk-container-id-1 div.sk-text-repr-fallback {display: none;}</style><div id=\"sk-container-id-1\" class=\"sk-top-container\"><div class=\"sk-text-repr-fallback\"><pre>Pipeline(steps=[(&#x27;transform&#x27;,\n",
       "                 ColumnTransformer(transformers=[(&#x27;cat&#x27;,\n",
       "                                                  Pipeline(steps=[(&#x27;onehot&#x27;,\n",
       "                                                                   OneHotEncoder(handle_unknown=&#x27;ignore&#x27;,\n",
       "                                                                                 sparse=False))]),\n",
       "                                                  [&#x27;Carrier&#x27;,\n",
       "                                                   &#x27;OriginAirport&#x27;])])),\n",
       "                (&#x27;logreg&#x27;, LogisticRegression(solver=&#x27;newton-cg&#x27;))])</pre><b>In a Jupyter environment, please rerun this cell to show the HTML representation or trust the notebook. <br />On GitHub, the HTML representation is unable to render, please try loading this page with nbviewer.org.</b></div><div class=\"sk-container\" hidden><div class=\"sk-item sk-dashed-wrapped\"><div class=\"sk-label-container\"><div class=\"sk-label sk-toggleable\"><input class=\"sk-toggleable__control sk-hidden--visually\" id=\"sk-estimator-id-1\" type=\"checkbox\" ><label for=\"sk-estimator-id-1\" class=\"sk-toggleable__label sk-toggleable__label-arrow\">Pipeline</label><div class=\"sk-toggleable__content\"><pre>Pipeline(steps=[(&#x27;transform&#x27;,\n",
       "                 ColumnTransformer(transformers=[(&#x27;cat&#x27;,\n",
       "                                                  Pipeline(steps=[(&#x27;onehot&#x27;,\n",
       "                                                                   OneHotEncoder(handle_unknown=&#x27;ignore&#x27;,\n",
       "                                                                                 sparse=False))]),\n",
       "                                                  [&#x27;Carrier&#x27;,\n",
       "                                                   &#x27;OriginAirport&#x27;])])),\n",
       "                (&#x27;logreg&#x27;, LogisticRegression(solver=&#x27;newton-cg&#x27;))])</pre></div></div></div><div class=\"sk-serial\"><div class=\"sk-item sk-dashed-wrapped\"><div class=\"sk-label-container\"><div class=\"sk-label sk-toggleable\"><input class=\"sk-toggleable__control sk-hidden--visually\" id=\"sk-estimator-id-2\" type=\"checkbox\" ><label for=\"sk-estimator-id-2\" class=\"sk-toggleable__label sk-toggleable__label-arrow\">transform: ColumnTransformer</label><div class=\"sk-toggleable__content\"><pre>ColumnTransformer(transformers=[(&#x27;cat&#x27;,\n",
       "                                 Pipeline(steps=[(&#x27;onehot&#x27;,\n",
       "                                                  OneHotEncoder(handle_unknown=&#x27;ignore&#x27;,\n",
       "                                                                sparse=False))]),\n",
       "                                 [&#x27;Carrier&#x27;, &#x27;OriginAirport&#x27;])])</pre></div></div></div><div class=\"sk-parallel\"><div class=\"sk-parallel-item\"><div class=\"sk-item\"><div class=\"sk-label-container\"><div class=\"sk-label sk-toggleable\"><input class=\"sk-toggleable__control sk-hidden--visually\" id=\"sk-estimator-id-3\" type=\"checkbox\" ><label for=\"sk-estimator-id-3\" class=\"sk-toggleable__label sk-toggleable__label-arrow\">cat</label><div class=\"sk-toggleable__content\"><pre>[&#x27;Carrier&#x27;, &#x27;OriginAirport&#x27;]</pre></div></div></div><div class=\"sk-serial\"><div class=\"sk-item\"><div class=\"sk-serial\"><div class=\"sk-item\"><div class=\"sk-estimator sk-toggleable\"><input class=\"sk-toggleable__control sk-hidden--visually\" id=\"sk-estimator-id-4\" type=\"checkbox\" ><label for=\"sk-estimator-id-4\" class=\"sk-toggleable__label sk-toggleable__label-arrow\">OneHotEncoder</label><div class=\"sk-toggleable__content\"><pre>OneHotEncoder(handle_unknown=&#x27;ignore&#x27;, sparse=False)</pre></div></div></div></div></div></div></div></div></div></div><div class=\"sk-item\"><div class=\"sk-estimator sk-toggleable\"><input class=\"sk-toggleable__control sk-hidden--visually\" id=\"sk-estimator-id-5\" type=\"checkbox\" ><label for=\"sk-estimator-id-5\" class=\"sk-toggleable__label sk-toggleable__label-arrow\">LogisticRegression</label><div class=\"sk-toggleable__content\"><pre>LogisticRegression(solver=&#x27;newton-cg&#x27;)</pre></div></div></div></div></div></div></div>"
      ],
      "text/plain": [
       "Pipeline(steps=[('transform',\n",
       "                 ColumnTransformer(transformers=[('cat',\n",
       "                                                  Pipeline(steps=[('onehot',\n",
       "                                                                   OneHotEncoder(handle_unknown='ignore',\n",
       "                                                                                 sparse=False))]),\n",
       "                                                  ['Carrier',\n",
       "                                                   'OriginAirport'])])),\n",
       "                ('logreg', LogisticRegression(solver='newton-cg'))])"
      ]
     },
     "execution_count": 19,
     "metadata": {},
     "output_type": "execute_result"
    }
   ],
   "source": [
    "# Scikit-learn\n",
    "# Create pipeline with one-hot-encoding and logistic regression\n",
    "logreg_pipe = Pipeline([('transform', ct), ('logreg', LogisticRegression(solver='newton-cg'))])\n",
    "logreg_pipe.fit(X_train, y_train)"
   ]
  },
  {
   "cell_type": "code",
   "execution_count": 20,
   "id": "0dd62717",
   "metadata": {},
   "outputs": [
    {
     "name": "stdout",
     "output_type": "stream",
     "text": [
      "Training accuracy:  0.7717758985200845\n",
      "Test accuracy:  0.7694204685573366\n"
     ]
    }
   ],
   "source": [
    "train = logreg_pipe.score(X_train, y_train)\n",
    "test = logreg_pipe.score(X_test, y_test)\n",
    "\n",
    "print(\"Training accuracy: \", train)\n",
    "print(\"Test accuracy: \", test)"
   ]
  },
  {
   "cell_type": "code",
   "execution_count": 21,
   "id": "5f78f561",
   "metadata": {},
   "outputs": [
    {
     "data": {
      "text/html": [
       "<style>#sk-container-id-2 {color: black;background-color: white;}#sk-container-id-2 pre{padding: 0;}#sk-container-id-2 div.sk-toggleable {background-color: white;}#sk-container-id-2 label.sk-toggleable__label {cursor: pointer;display: block;width: 100%;margin-bottom: 0;padding: 0.3em;box-sizing: border-box;text-align: center;}#sk-container-id-2 label.sk-toggleable__label-arrow:before {content: \"▸\";float: left;margin-right: 0.25em;color: #696969;}#sk-container-id-2 label.sk-toggleable__label-arrow:hover:before {color: black;}#sk-container-id-2 div.sk-estimator:hover label.sk-toggleable__label-arrow:before {color: black;}#sk-container-id-2 div.sk-toggleable__content {max-height: 0;max-width: 0;overflow: hidden;text-align: left;background-color: #f0f8ff;}#sk-container-id-2 div.sk-toggleable__content pre {margin: 0.2em;color: black;border-radius: 0.25em;background-color: #f0f8ff;}#sk-container-id-2 input.sk-toggleable__control:checked~div.sk-toggleable__content {max-height: 200px;max-width: 100%;overflow: auto;}#sk-container-id-2 input.sk-toggleable__control:checked~label.sk-toggleable__label-arrow:before {content: \"▾\";}#sk-container-id-2 div.sk-estimator input.sk-toggleable__control:checked~label.sk-toggleable__label {background-color: #d4ebff;}#sk-container-id-2 div.sk-label input.sk-toggleable__control:checked~label.sk-toggleable__label {background-color: #d4ebff;}#sk-container-id-2 input.sk-hidden--visually {border: 0;clip: rect(1px 1px 1px 1px);clip: rect(1px, 1px, 1px, 1px);height: 1px;margin: -1px;overflow: hidden;padding: 0;position: absolute;width: 1px;}#sk-container-id-2 div.sk-estimator {font-family: monospace;background-color: #f0f8ff;border: 1px dotted black;border-radius: 0.25em;box-sizing: border-box;margin-bottom: 0.5em;}#sk-container-id-2 div.sk-estimator:hover {background-color: #d4ebff;}#sk-container-id-2 div.sk-parallel-item::after {content: \"\";width: 100%;border-bottom: 1px solid gray;flex-grow: 1;}#sk-container-id-2 div.sk-label:hover label.sk-toggleable__label {background-color: #d4ebff;}#sk-container-id-2 div.sk-serial::before {content: \"\";position: absolute;border-left: 1px solid gray;box-sizing: border-box;top: 0;bottom: 0;left: 50%;z-index: 0;}#sk-container-id-2 div.sk-serial {display: flex;flex-direction: column;align-items: center;background-color: white;padding-right: 0.2em;padding-left: 0.2em;position: relative;}#sk-container-id-2 div.sk-item {position: relative;z-index: 1;}#sk-container-id-2 div.sk-parallel {display: flex;align-items: stretch;justify-content: center;background-color: white;position: relative;}#sk-container-id-2 div.sk-item::before, #sk-container-id-2 div.sk-parallel-item::before {content: \"\";position: absolute;border-left: 1px solid gray;box-sizing: border-box;top: 0;bottom: 0;left: 50%;z-index: -1;}#sk-container-id-2 div.sk-parallel-item {display: flex;flex-direction: column;z-index: 1;position: relative;background-color: white;}#sk-container-id-2 div.sk-parallel-item:first-child::after {align-self: flex-end;width: 50%;}#sk-container-id-2 div.sk-parallel-item:last-child::after {align-self: flex-start;width: 50%;}#sk-container-id-2 div.sk-parallel-item:only-child::after {width: 0;}#sk-container-id-2 div.sk-dashed-wrapped {border: 1px dashed gray;margin: 0 0.4em 0.5em 0.4em;box-sizing: border-box;padding-bottom: 0.4em;background-color: white;}#sk-container-id-2 div.sk-label label {font-family: monospace;font-weight: bold;display: inline-block;line-height: 1.2em;}#sk-container-id-2 div.sk-label-container {text-align: center;}#sk-container-id-2 div.sk-container {/* jupyter's `normalize.less` sets `[hidden] { display: none; }` but bootstrap.min.css set `[hidden] { display: none !important; }` so we also need the `!important` here to be able to override the default hidden behavior on the sphinx rendered scikit-learn.org. See: https://github.com/scikit-learn/scikit-learn/issues/21755 */display: inline-block !important;position: relative;}#sk-container-id-2 div.sk-text-repr-fallback {display: none;}</style><div id=\"sk-container-id-2\" class=\"sk-top-container\"><div class=\"sk-text-repr-fallback\"><pre>Pipeline(steps=[(&#x27;transform&#x27;,\n",
       "                 ColumnTransformer(transformers=[(&#x27;cat&#x27;,\n",
       "                                                  Pipeline(steps=[(&#x27;onehot&#x27;,\n",
       "                                                                   OneHotEncoder(handle_unknown=&#x27;ignore&#x27;,\n",
       "                                                                                 sparse=False))]),\n",
       "                                                  [&#x27;Carrier&#x27;,\n",
       "                                                   &#x27;OriginAirport&#x27;])])),\n",
       "                (&#x27;xgb&#x27;,\n",
       "                 XGBClassifier(base_score=None, booster=None, callbacks=None,\n",
       "                               colsample_bylevel=None, colsample_bynode=None,\n",
       "                               colsample_bytree=None, device=None,\n",
       "                               early_stopping_rounds=Non...\n",
       "                               feature_types=None, gamma=None, grow_policy=None,\n",
       "                               importance_type=None,\n",
       "                               interaction_constraints=None, learning_rate=None,\n",
       "                               max_bin=None, max_cat_threshold=None,\n",
       "                               max_cat_to_onehot=None, max_delta_step=None,\n",
       "                               max_depth=None, max_leaves=None,\n",
       "                               min_child_weight=None, missing=nan,\n",
       "                               monotone_constraints=None, multi_strategy=None,\n",
       "                               n_estimators=None, n_jobs=None,\n",
       "                               num_parallel_tree=None, random_state=None, ...))])</pre><b>In a Jupyter environment, please rerun this cell to show the HTML representation or trust the notebook. <br />On GitHub, the HTML representation is unable to render, please try loading this page with nbviewer.org.</b></div><div class=\"sk-container\" hidden><div class=\"sk-item sk-dashed-wrapped\"><div class=\"sk-label-container\"><div class=\"sk-label sk-toggleable\"><input class=\"sk-toggleable__control sk-hidden--visually\" id=\"sk-estimator-id-6\" type=\"checkbox\" ><label for=\"sk-estimator-id-6\" class=\"sk-toggleable__label sk-toggleable__label-arrow\">Pipeline</label><div class=\"sk-toggleable__content\"><pre>Pipeline(steps=[(&#x27;transform&#x27;,\n",
       "                 ColumnTransformer(transformers=[(&#x27;cat&#x27;,\n",
       "                                                  Pipeline(steps=[(&#x27;onehot&#x27;,\n",
       "                                                                   OneHotEncoder(handle_unknown=&#x27;ignore&#x27;,\n",
       "                                                                                 sparse=False))]),\n",
       "                                                  [&#x27;Carrier&#x27;,\n",
       "                                                   &#x27;OriginAirport&#x27;])])),\n",
       "                (&#x27;xgb&#x27;,\n",
       "                 XGBClassifier(base_score=None, booster=None, callbacks=None,\n",
       "                               colsample_bylevel=None, colsample_bynode=None,\n",
       "                               colsample_bytree=None, device=None,\n",
       "                               early_stopping_rounds=Non...\n",
       "                               feature_types=None, gamma=None, grow_policy=None,\n",
       "                               importance_type=None,\n",
       "                               interaction_constraints=None, learning_rate=None,\n",
       "                               max_bin=None, max_cat_threshold=None,\n",
       "                               max_cat_to_onehot=None, max_delta_step=None,\n",
       "                               max_depth=None, max_leaves=None,\n",
       "                               min_child_weight=None, missing=nan,\n",
       "                               monotone_constraints=None, multi_strategy=None,\n",
       "                               n_estimators=None, n_jobs=None,\n",
       "                               num_parallel_tree=None, random_state=None, ...))])</pre></div></div></div><div class=\"sk-serial\"><div class=\"sk-item sk-dashed-wrapped\"><div class=\"sk-label-container\"><div class=\"sk-label sk-toggleable\"><input class=\"sk-toggleable__control sk-hidden--visually\" id=\"sk-estimator-id-7\" type=\"checkbox\" ><label for=\"sk-estimator-id-7\" class=\"sk-toggleable__label sk-toggleable__label-arrow\">transform: ColumnTransformer</label><div class=\"sk-toggleable__content\"><pre>ColumnTransformer(transformers=[(&#x27;cat&#x27;,\n",
       "                                 Pipeline(steps=[(&#x27;onehot&#x27;,\n",
       "                                                  OneHotEncoder(handle_unknown=&#x27;ignore&#x27;,\n",
       "                                                                sparse=False))]),\n",
       "                                 [&#x27;Carrier&#x27;, &#x27;OriginAirport&#x27;])])</pre></div></div></div><div class=\"sk-parallel\"><div class=\"sk-parallel-item\"><div class=\"sk-item\"><div class=\"sk-label-container\"><div class=\"sk-label sk-toggleable\"><input class=\"sk-toggleable__control sk-hidden--visually\" id=\"sk-estimator-id-8\" type=\"checkbox\" ><label for=\"sk-estimator-id-8\" class=\"sk-toggleable__label sk-toggleable__label-arrow\">cat</label><div class=\"sk-toggleable__content\"><pre>[&#x27;Carrier&#x27;, &#x27;OriginAirport&#x27;]</pre></div></div></div><div class=\"sk-serial\"><div class=\"sk-item\"><div class=\"sk-serial\"><div class=\"sk-item\"><div class=\"sk-estimator sk-toggleable\"><input class=\"sk-toggleable__control sk-hidden--visually\" id=\"sk-estimator-id-9\" type=\"checkbox\" ><label for=\"sk-estimator-id-9\" class=\"sk-toggleable__label sk-toggleable__label-arrow\">OneHotEncoder</label><div class=\"sk-toggleable__content\"><pre>OneHotEncoder(handle_unknown=&#x27;ignore&#x27;, sparse=False)</pre></div></div></div></div></div></div></div></div></div></div><div class=\"sk-item\"><div class=\"sk-estimator sk-toggleable\"><input class=\"sk-toggleable__control sk-hidden--visually\" id=\"sk-estimator-id-10\" type=\"checkbox\" ><label for=\"sk-estimator-id-10\" class=\"sk-toggleable__label sk-toggleable__label-arrow\">XGBClassifier</label><div class=\"sk-toggleable__content\"><pre>XGBClassifier(base_score=None, booster=None, callbacks=None,\n",
       "              colsample_bylevel=None, colsample_bynode=None,\n",
       "              colsample_bytree=None, device=None, early_stopping_rounds=None,\n",
       "              enable_categorical=False, eval_metric=&#x27;logloss&#x27;,\n",
       "              feature_types=None, gamma=None, grow_policy=None,\n",
       "              importance_type=None, interaction_constraints=None,\n",
       "              learning_rate=None, max_bin=None, max_cat_threshold=None,\n",
       "              max_cat_to_onehot=None, max_delta_step=None, max_depth=None,\n",
       "              max_leaves=None, min_child_weight=None, missing=nan,\n",
       "              monotone_constraints=None, multi_strategy=None, n_estimators=None,\n",
       "              n_jobs=None, num_parallel_tree=None, random_state=None, ...)</pre></div></div></div></div></div></div></div>"
      ],
      "text/plain": [
       "Pipeline(steps=[('transform',\n",
       "                 ColumnTransformer(transformers=[('cat',\n",
       "                                                  Pipeline(steps=[('onehot',\n",
       "                                                                   OneHotEncoder(handle_unknown='ignore',\n",
       "                                                                                 sparse=False))]),\n",
       "                                                  ['Carrier',\n",
       "                                                   'OriginAirport'])])),\n",
       "                ('xgb',\n",
       "                 XGBClassifier(base_score=None, booster=None, callbacks=None,\n",
       "                               colsample_bylevel=None, colsample_bynode=None,\n",
       "                               colsample_bytree=None, device=None,\n",
       "                               early_stopping_rounds=Non...\n",
       "                               feature_types=None, gamma=None, grow_policy=None,\n",
       "                               importance_type=None,\n",
       "                               interaction_constraints=None, learning_rate=None,\n",
       "                               max_bin=None, max_cat_threshold=None,\n",
       "                               max_cat_to_onehot=None, max_delta_step=None,\n",
       "                               max_depth=None, max_leaves=None,\n",
       "                               min_child_weight=None, missing=nan,\n",
       "                               monotone_constraints=None, multi_strategy=None,\n",
       "                               n_estimators=None, n_jobs=None,\n",
       "                               num_parallel_tree=None, random_state=None, ...))])"
      ]
     },
     "execution_count": 21,
     "metadata": {},
     "output_type": "execute_result"
    }
   ],
   "source": [
    "# XGBoost\n",
    "# Create pipeline with one-hot-encoding and xgboost\n",
    "xgb_pipe = Pipeline([('transform', ct), ('xgb', XGBClassifier(use_label_encoder=False, eval_metric='logloss'))])\n",
    "xgb_pipe.fit(X_train, y_train)"
   ]
  },
  {
   "cell_type": "code",
   "execution_count": 22,
   "id": "a0a86381",
   "metadata": {},
   "outputs": [
    {
     "name": "stdout",
     "output_type": "stream",
     "text": [
      "Training accuracy:  0.7719873150105708\n",
      "Test accuracy : 0.7684340320591861\n"
     ]
    }
   ],
   "source": [
    "train = xgb_pipe.score(X_train, y_train)\n",
    "test = xgb_pipe.score(X_test, y_test)\n",
    "\n",
    "print(\"Training accuracy: \", train)\n",
    "print(\"Test accuracy :\", test)"
   ]
  },
  {
   "cell_type": "code",
   "execution_count": 23,
   "id": "9039ea73",
   "metadata": {},
   "outputs": [
    {
     "data": {
      "text/html": [
       "<style>#sk-container-id-3 {color: black;background-color: white;}#sk-container-id-3 pre{padding: 0;}#sk-container-id-3 div.sk-toggleable {background-color: white;}#sk-container-id-3 label.sk-toggleable__label {cursor: pointer;display: block;width: 100%;margin-bottom: 0;padding: 0.3em;box-sizing: border-box;text-align: center;}#sk-container-id-3 label.sk-toggleable__label-arrow:before {content: \"▸\";float: left;margin-right: 0.25em;color: #696969;}#sk-container-id-3 label.sk-toggleable__label-arrow:hover:before {color: black;}#sk-container-id-3 div.sk-estimator:hover label.sk-toggleable__label-arrow:before {color: black;}#sk-container-id-3 div.sk-toggleable__content {max-height: 0;max-width: 0;overflow: hidden;text-align: left;background-color: #f0f8ff;}#sk-container-id-3 div.sk-toggleable__content pre {margin: 0.2em;color: black;border-radius: 0.25em;background-color: #f0f8ff;}#sk-container-id-3 input.sk-toggleable__control:checked~div.sk-toggleable__content {max-height: 200px;max-width: 100%;overflow: auto;}#sk-container-id-3 input.sk-toggleable__control:checked~label.sk-toggleable__label-arrow:before {content: \"▾\";}#sk-container-id-3 div.sk-estimator input.sk-toggleable__control:checked~label.sk-toggleable__label {background-color: #d4ebff;}#sk-container-id-3 div.sk-label input.sk-toggleable__control:checked~label.sk-toggleable__label {background-color: #d4ebff;}#sk-container-id-3 input.sk-hidden--visually {border: 0;clip: rect(1px 1px 1px 1px);clip: rect(1px, 1px, 1px, 1px);height: 1px;margin: -1px;overflow: hidden;padding: 0;position: absolute;width: 1px;}#sk-container-id-3 div.sk-estimator {font-family: monospace;background-color: #f0f8ff;border: 1px dotted black;border-radius: 0.25em;box-sizing: border-box;margin-bottom: 0.5em;}#sk-container-id-3 div.sk-estimator:hover {background-color: #d4ebff;}#sk-container-id-3 div.sk-parallel-item::after {content: \"\";width: 100%;border-bottom: 1px solid gray;flex-grow: 1;}#sk-container-id-3 div.sk-label:hover label.sk-toggleable__label {background-color: #d4ebff;}#sk-container-id-3 div.sk-serial::before {content: \"\";position: absolute;border-left: 1px solid gray;box-sizing: border-box;top: 0;bottom: 0;left: 50%;z-index: 0;}#sk-container-id-3 div.sk-serial {display: flex;flex-direction: column;align-items: center;background-color: white;padding-right: 0.2em;padding-left: 0.2em;position: relative;}#sk-container-id-3 div.sk-item {position: relative;z-index: 1;}#sk-container-id-3 div.sk-parallel {display: flex;align-items: stretch;justify-content: center;background-color: white;position: relative;}#sk-container-id-3 div.sk-item::before, #sk-container-id-3 div.sk-parallel-item::before {content: \"\";position: absolute;border-left: 1px solid gray;box-sizing: border-box;top: 0;bottom: 0;left: 50%;z-index: -1;}#sk-container-id-3 div.sk-parallel-item {display: flex;flex-direction: column;z-index: 1;position: relative;background-color: white;}#sk-container-id-3 div.sk-parallel-item:first-child::after {align-self: flex-end;width: 50%;}#sk-container-id-3 div.sk-parallel-item:last-child::after {align-self: flex-start;width: 50%;}#sk-container-id-3 div.sk-parallel-item:only-child::after {width: 0;}#sk-container-id-3 div.sk-dashed-wrapped {border: 1px dashed gray;margin: 0 0.4em 0.5em 0.4em;box-sizing: border-box;padding-bottom: 0.4em;background-color: white;}#sk-container-id-3 div.sk-label label {font-family: monospace;font-weight: bold;display: inline-block;line-height: 1.2em;}#sk-container-id-3 div.sk-label-container {text-align: center;}#sk-container-id-3 div.sk-container {/* jupyter's `normalize.less` sets `[hidden] { display: none; }` but bootstrap.min.css set `[hidden] { display: none !important; }` so we also need the `!important` here to be able to override the default hidden behavior on the sphinx rendered scikit-learn.org. See: https://github.com/scikit-learn/scikit-learn/issues/21755 */display: inline-block !important;position: relative;}#sk-container-id-3 div.sk-text-repr-fallback {display: none;}</style><div id=\"sk-container-id-3\" class=\"sk-top-container\"><div class=\"sk-text-repr-fallback\"><pre>Pipeline(steps=[(&#x27;transform&#x27;,\n",
       "                 ColumnTransformer(transformers=[(&#x27;cat&#x27;,\n",
       "                                                  Pipeline(steps=[(&#x27;onehot&#x27;,\n",
       "                                                                   OneHotEncoder(handle_unknown=&#x27;ignore&#x27;,\n",
       "                                                                                 sparse=False))]),\n",
       "                                                  [&#x27;Carrier&#x27;,\n",
       "                                                   &#x27;OriginAirport&#x27;])])),\n",
       "                (&#x27;forest&#x27;,\n",
       "                 RandomForestClassifier(max_depth=7, n_estimators=50))])</pre><b>In a Jupyter environment, please rerun this cell to show the HTML representation or trust the notebook. <br />On GitHub, the HTML representation is unable to render, please try loading this page with nbviewer.org.</b></div><div class=\"sk-container\" hidden><div class=\"sk-item sk-dashed-wrapped\"><div class=\"sk-label-container\"><div class=\"sk-label sk-toggleable\"><input class=\"sk-toggleable__control sk-hidden--visually\" id=\"sk-estimator-id-11\" type=\"checkbox\" ><label for=\"sk-estimator-id-11\" class=\"sk-toggleable__label sk-toggleable__label-arrow\">Pipeline</label><div class=\"sk-toggleable__content\"><pre>Pipeline(steps=[(&#x27;transform&#x27;,\n",
       "                 ColumnTransformer(transformers=[(&#x27;cat&#x27;,\n",
       "                                                  Pipeline(steps=[(&#x27;onehot&#x27;,\n",
       "                                                                   OneHotEncoder(handle_unknown=&#x27;ignore&#x27;,\n",
       "                                                                                 sparse=False))]),\n",
       "                                                  [&#x27;Carrier&#x27;,\n",
       "                                                   &#x27;OriginAirport&#x27;])])),\n",
       "                (&#x27;forest&#x27;,\n",
       "                 RandomForestClassifier(max_depth=7, n_estimators=50))])</pre></div></div></div><div class=\"sk-serial\"><div class=\"sk-item sk-dashed-wrapped\"><div class=\"sk-label-container\"><div class=\"sk-label sk-toggleable\"><input class=\"sk-toggleable__control sk-hidden--visually\" id=\"sk-estimator-id-12\" type=\"checkbox\" ><label for=\"sk-estimator-id-12\" class=\"sk-toggleable__label sk-toggleable__label-arrow\">transform: ColumnTransformer</label><div class=\"sk-toggleable__content\"><pre>ColumnTransformer(transformers=[(&#x27;cat&#x27;,\n",
       "                                 Pipeline(steps=[(&#x27;onehot&#x27;,\n",
       "                                                  OneHotEncoder(handle_unknown=&#x27;ignore&#x27;,\n",
       "                                                                sparse=False))]),\n",
       "                                 [&#x27;Carrier&#x27;, &#x27;OriginAirport&#x27;])])</pre></div></div></div><div class=\"sk-parallel\"><div class=\"sk-parallel-item\"><div class=\"sk-item\"><div class=\"sk-label-container\"><div class=\"sk-label sk-toggleable\"><input class=\"sk-toggleable__control sk-hidden--visually\" id=\"sk-estimator-id-13\" type=\"checkbox\" ><label for=\"sk-estimator-id-13\" class=\"sk-toggleable__label sk-toggleable__label-arrow\">cat</label><div class=\"sk-toggleable__content\"><pre>[&#x27;Carrier&#x27;, &#x27;OriginAirport&#x27;]</pre></div></div></div><div class=\"sk-serial\"><div class=\"sk-item\"><div class=\"sk-serial\"><div class=\"sk-item\"><div class=\"sk-estimator sk-toggleable\"><input class=\"sk-toggleable__control sk-hidden--visually\" id=\"sk-estimator-id-14\" type=\"checkbox\" ><label for=\"sk-estimator-id-14\" class=\"sk-toggleable__label sk-toggleable__label-arrow\">OneHotEncoder</label><div class=\"sk-toggleable__content\"><pre>OneHotEncoder(handle_unknown=&#x27;ignore&#x27;, sparse=False)</pre></div></div></div></div></div></div></div></div></div></div><div class=\"sk-item\"><div class=\"sk-estimator sk-toggleable\"><input class=\"sk-toggleable__control sk-hidden--visually\" id=\"sk-estimator-id-15\" type=\"checkbox\" ><label for=\"sk-estimator-id-15\" class=\"sk-toggleable__label sk-toggleable__label-arrow\">RandomForestClassifier</label><div class=\"sk-toggleable__content\"><pre>RandomForestClassifier(max_depth=7, n_estimators=50)</pre></div></div></div></div></div></div></div>"
      ],
      "text/plain": [
       "Pipeline(steps=[('transform',\n",
       "                 ColumnTransformer(transformers=[('cat',\n",
       "                                                  Pipeline(steps=[('onehot',\n",
       "                                                                   OneHotEncoder(handle_unknown='ignore',\n",
       "                                                                                 sparse=False))]),\n",
       "                                                  ['Carrier',\n",
       "                                                   'OriginAirport'])])),\n",
       "                ('forest',\n",
       "                 RandomForestClassifier(max_depth=7, n_estimators=50))])"
      ]
     },
     "execution_count": 23,
     "metadata": {},
     "output_type": "execute_result"
    }
   ],
   "source": [
    "# MLflow\n",
    "\n",
    "forest_pipe = Pipeline([('transform', ct), ('forest', RandomForestClassifier(n_estimators=50, max_depth=7))])\n",
    "forest_pipe.fit(X_train, y_train)"
   ]
  },
  {
   "cell_type": "code",
   "execution_count": 24,
   "id": "badbca62",
   "metadata": {},
   "outputs": [],
   "source": [
    "signature = infer_signature(X_train, forest_pipe.predict(X_train))"
   ]
  },
  {
   "cell_type": "code",
   "execution_count": 25,
   "id": "71d265bc",
   "metadata": {},
   "outputs": [
    {
     "name": "stdout",
     "output_type": "stream",
     "text": [
      "Training accuracy:  0.7706131078224101\n",
      "Test accuracy:  0.7706131078224101\n"
     ]
    }
   ],
   "source": [
    "train = forest_pipe.score(X_train, y_train)\n",
    "test = forest_pipe.score(X_test, y_test)\n",
    "\n",
    "print(\"Training accuracy: \", train)\n",
    "mlflow.log_metric(\"Training accuracy\", train)\n",
    "print(\"Test accuracy: \", train)\n",
    "mlflow.log_metric(\"Test accuracy\", train)"
   ]
  },
  {
   "cell_type": "code",
   "execution_count": 26,
   "id": "513d463a",
   "metadata": {},
   "outputs": [
    {
     "name": "stdout",
     "output_type": "stream",
     "text": [
      "Model save in run 32624031b0f2415292f8c19f3053f83a\n"
     ]
    }
   ],
   "source": [
    "mlflow.sklearn.log_model(forest_pipe, \"model\", signature=signature)\n",
    "print(\"Model save in run %s\" % mlflow.active_run().info.run_uuid)"
   ]
  },
  {
   "cell_type": "code",
   "execution_count": 27,
   "id": "5a1db5fb",
   "metadata": {},
   "outputs": [
    {
     "name": "stdout",
     "output_type": "stream",
     "text": [
      "296/296 [==============================] - 1s 2ms/step - loss: 0.7246 - accuracy: 0.7037\n",
      "296/296 [==============================] - 1s 2ms/step - loss: 0.6919 - accuracy: 0.7690\n",
      "127/127 [==============================] - 0s 2ms/step - loss: 0.6851 - accuracy: 0.7692\n",
      "Training accuracy:  0.7690274715423584\n",
      "Test accuracy:  0.7691738605499268\n"
     ]
    }
   ],
   "source": [
    "# Keras\n",
    "X_train_keras = X_train[['DayofMonth', 'ScheduledElapsedTime', 'ArrivalHour', 'DepartureHour']]\n",
    "X_test_keras = X_test[['DayofMonth', 'ScheduledElapsedTime', 'ArrivalHour', 'DepartureHour']]\n",
    "\n",
    "keras = tf.keras.Sequential([\n",
    "        tf.keras.layers.Dense(42, activation=\"relu\"),\n",
    "        tf.keras.layers.Dense(72, activation=\"relu\"),\n",
    "        tf.keras.layers.Dense(1, activation=\"sigmoid\")\n",
    "])\n",
    "\n",
    "keras.compile(optimizer=\"rmsprop\", loss=\"binary_crossentropy\", metrics=[\"accuracy\"])\n",
    "keras.fit(X_train_keras, y_train)\n",
    "\n",
    "train = keras.evaluate(X_train_keras, y_train)[1]\n",
    "test = keras.evaluate(X_test_keras, y_test)[1]\n",
    "\n",
    "print(\"Training accuracy: \", train)\n",
    "print(\"Test accuracy: \", test)"
   ]
  },
  {
   "cell_type": "code",
   "execution_count": 28,
   "id": "008a1e2d",
   "metadata": {},
   "outputs": [],
   "source": [
    "# Register Models\n",
    "\n",
    "# The folder where we can store our model files\n",
    "output_folder = 'output'\n",
    "\n",
    "# The model developer, in this case ours truly\n",
    "modeler = \"jpnpul\"\n",
    "\n",
    "# The project within SAS Model Manager\n",
    "project = \"Flight Delay Prediction\"\n",
    "\n",
    "# Model outputs\n",
    "score_metrics = [\"EM_CLASSIFICATION\", \"EM_EVENTPROBABILITY\"]"
   ]
  },
  {
   "cell_type": "code",
   "execution_count": 29,
   "id": "62a952fd",
   "metadata": {},
   "outputs": [
    {
     "name": "stdout",
     "output_type": "stream",
     "text": [
      "Hostname: cisviya.sas.com\n",
      "Username: jpnpul\n",
      "Password: ········\n"
     ]
    },
    {
     "name": "stderr",
     "output_type": "stream",
     "text": [
      "C:\\Users\\jpnpul\\AppData\\Local\\miniconda3\\envs\\ml\\Lib\\site-packages\\urllib3\\connectionpool.py:1056: InsecureRequestWarning: Unverified HTTPS request is being made to host 'cisviya.sas.com'. Adding certificate verification is strongly advised. See: https://urllib3.readthedocs.io/en/1.26.x/advanced-usage.html#ssl-warnings\n",
      "  warnings.warn(\n",
      "C:\\Users\\jpnpul\\AppData\\Local\\miniconda3\\envs\\ml\\Lib\\site-packages\\urllib3\\connectionpool.py:1056: InsecureRequestWarning: Unverified HTTPS request is being made to host 'cisviya.sas.com'. Adding certificate verification is strongly advised. See: https://urllib3.readthedocs.io/en/1.26.x/advanced-usage.html#ssl-warnings\n",
      "  warnings.warn(\n",
      "C:\\Users\\jpnpul\\AppData\\Local\\miniconda3\\envs\\ml\\Lib\\site-packages\\urllib3\\connectionpool.py:1056: InsecureRequestWarning: Unverified HTTPS request is being made to host 'cisviya.sas.com'. Adding certificate verification is strongly advised. See: https://urllib3.readthedocs.io/en/1.26.x/advanced-usage.html#ssl-warnings\n",
      "  warnings.warn(\n"
     ]
    },
    {
     "data": {
      "text/plain": [
       "CAS('cisviya.sas.com', 443, protocol='https', name='py-session-1', session='cd7a0882-3ae5-3a4c-abb9-9d74827dce81')"
      ]
     },
     "execution_count": 29,
     "metadata": {},
     "output_type": "execute_result"
    }
   ],
   "source": [
    "from sasctl import Session\n",
    "import getpass\n",
    "\n",
    "hostname = input(\"Hostname: \")\n",
    "username = input(\"Username: \")\n",
    "password = getpass.getpass(\"Password: \")\n",
    " \n",
    "sess = Session(hostname, username, password, verify_ssl=False, protocol=\"https\")\n",
    "conn = sess.as_swat()\n",
    "conn"
   ]
  },
  {
   "cell_type": "code",
   "execution_count": 30,
   "id": "be5de614",
   "metadata": {},
   "outputs": [
    {
     "name": "stdout",
     "output_type": "stream",
     "text": [
      "Model SKLearn Logistic Regression v1 was successfully pickled and saved to C:\\code\\sascode\\python\\output\\SKLearn Logistic Regression v1\\SKLearn Logistic Regression v1.pickle.\n",
      "inputVar.json was successfully written and saved to C:\\code\\sascode\\python\\output\\SKLearn Logistic Regression v1\\inputVar.json\n",
      "outputVar.json was successfully written and saved to C:\\code\\sascode\\python\\output\\SKLearn Logistic Regression v1\\outputVar.json\n"
     ]
    },
    {
     "name": "stderr",
     "output_type": "stream",
     "text": [
      "C:\\Users\\jpnpul\\AppData\\Local\\miniconda3\\envs\\ml\\Lib\\site-packages\\urllib3\\connectionpool.py:1056: InsecureRequestWarning: Unverified HTTPS request is being made to host 'cisviya.sas.com'. Adding certificate verification is strongly advised. See: https://urllib3.readthedocs.io/en/1.26.x/advanced-usage.html#ssl-warnings\n",
      "  warnings.warn(\n",
      "C:\\Users\\jpnpul\\AppData\\Local\\miniconda3\\envs\\ml\\Lib\\site-packages\\urllib3\\connectionpool.py:1056: InsecureRequestWarning: Unverified HTTPS request is being made to host 'cisviya.sas.com'. Adding certificate verification is strongly advised. See: https://urllib3.readthedocs.io/en/1.26.x/advanced-usage.html#ssl-warnings\n",
      "  warnings.warn(\n",
      "C:\\Users\\jpnpul\\AppData\\Local\\miniconda3\\envs\\ml\\Lib\\site-packages\\urllib3\\connectionpool.py:1056: InsecureRequestWarning: Unverified HTTPS request is being made to host 'cisviya.sas.com'. Adding certificate verification is strongly advised. See: https://urllib3.readthedocs.io/en/1.26.x/advanced-usage.html#ssl-warnings\n",
      "  warnings.warn(\n",
      "C:\\Users\\jpnpul\\AppData\\Local\\miniconda3\\envs\\ml\\Lib\\site-packages\\urllib3\\connectionpool.py:1056: InsecureRequestWarning: Unverified HTTPS request is being made to host 'cisviya.sas.com'. Adding certificate verification is strongly advised. See: https://urllib3.readthedocs.io/en/1.26.x/advanced-usage.html#ssl-warnings\n",
      "  warnings.warn(\n",
      "C:\\Users\\jpnpul\\AppData\\Local\\miniconda3\\envs\\ml\\Lib\\site-packages\\urllib3\\connectionpool.py:1056: InsecureRequestWarning: Unverified HTTPS request is being made to host 'cisviya.sas.com'. Adding certificate verification is strongly advised. See: https://urllib3.readthedocs.io/en/1.26.x/advanced-usage.html#ssl-warnings\n",
      "  warnings.warn(\n",
      "C:\\Users\\jpnpul\\AppData\\Local\\miniconda3\\envs\\ml\\Lib\\site-packages\\urllib3\\connectionpool.py:1056: InsecureRequestWarning: Unverified HTTPS request is being made to host 'cisviya.sas.com'. Adding certificate verification is strongly advised. See: https://urllib3.readthedocs.io/en/1.26.x/advanced-usage.html#ssl-warnings\n",
      "  warnings.warn(\n",
      "C:\\Users\\jpnpul\\AppData\\Local\\miniconda3\\envs\\ml\\Lib\\site-packages\\urllib3\\connectionpool.py:1056: InsecureRequestWarning: Unverified HTTPS request is being made to host 'cisviya.sas.com'. Adding certificate verification is strongly advised. See: https://urllib3.readthedocs.io/en/1.26.x/advanced-usage.html#ssl-warnings\n",
      "  warnings.warn(\n",
      "C:\\Users\\jpnpul\\AppData\\Local\\miniconda3\\envs\\ml\\Lib\\site-packages\\urllib3\\connectionpool.py:1056: InsecureRequestWarning: Unverified HTTPS request is being made to host 'cisviya.sas.com'. Adding certificate verification is strongly advised. See: https://urllib3.readthedocs.io/en/1.26.x/advanced-usage.html#ssl-warnings\n",
      "  warnings.warn(\n",
      "C:\\Users\\jpnpul\\AppData\\Local\\miniconda3\\envs\\ml\\Lib\\site-packages\\urllib3\\connectionpool.py:1056: InsecureRequestWarning: Unverified HTTPS request is being made to host 'cisviya.sas.com'. Adding certificate verification is strongly advised. See: https://urllib3.readthedocs.io/en/1.26.x/advanced-usage.html#ssl-warnings\n",
      "  warnings.warn(\n",
      "C:\\Users\\jpnpul\\AppData\\Local\\miniconda3\\envs\\ml\\Lib\\site-packages\\urllib3\\connectionpool.py:1056: InsecureRequestWarning: Unverified HTTPS request is being made to host 'cisviya.sas.com'. Adding certificate verification is strongly advised. See: https://urllib3.readthedocs.io/en/1.26.x/advanced-usage.html#ssl-warnings\n",
      "  warnings.warn(\n",
      "C:\\Users\\jpnpul\\AppData\\Local\\miniconda3\\envs\\ml\\Lib\\site-packages\\urllib3\\connectionpool.py:1056: InsecureRequestWarning: Unverified HTTPS request is being made to host 'cisviya.sas.com'. Adding certificate verification is strongly advised. See: https://urllib3.readthedocs.io/en/1.26.x/advanced-usage.html#ssl-warnings\n",
      "  warnings.warn(\n"
     ]
    },
    {
     "name": "stdout",
     "output_type": "stream",
     "text": [
      "dmcas_fitstat.json was successfully written and saved to C:\\code\\sascode\\python\\output\\SKLearn Logistic Regression v1\\dmcas_fitstat.json\n",
      "dmcas_roc.json was successfully written and saved to C:\\code\\sascode\\python\\output\\SKLearn Logistic Regression v1\\dmcas_roc.json\n",
      "dmcas_lift.json was successfully written and saved to C:\\code\\sascode\\python\\output\\SKLearn Logistic Regression v1\\dmcas_lift.json\n",
      "fileMetadata.json was successfully written and saved to C:\\code\\sascode\\python\\output\\SKLearn Logistic Regression v1\\fileMetadata.json\n",
      "ModelProperties.json was successfully written and saved to C:\\code\\sascode\\python\\output\\SKLearn Logistic Regression v1\\ModelProperties.json\n"
     ]
    },
    {
     "name": "stderr",
     "output_type": "stream",
     "text": [
      "C:\\Users\\jpnpul\\AppData\\Local\\miniconda3\\envs\\ml\\Lib\\site-packages\\urllib3\\connectionpool.py:1056: InsecureRequestWarning: Unverified HTTPS request is being made to host 'cisviya.sas.com'. Adding certificate verification is strongly advised. See: https://urllib3.readthedocs.io/en/1.26.x/advanced-usage.html#ssl-warnings\n",
      "  warnings.warn(\n"
     ]
    },
    {
     "name": "stdout",
     "output_type": "stream",
     "text": [
      "Model score code was written successfully to C:\\code\\sascode\\python\\output\\SKLearn Logistic Regression v1\\score_SKLearn Logistic Regression v1.py and uploaded to SAS Model Manager.\n",
      "All model files were zipped to C:\\code\\sascode\\python\\output\\SKLearn Logistic Regression v1.\n",
      "Model was successfully imported into SAS Model Manager as SKLearn Logistic Regression v1 with the following UUID: 9bd80b60-a85b-43a2-9c2a-976cd5fe7857.\n"
     ]
    }
   ],
   "source": [
    "# SKLearn\n",
    "\n",
    "# STEP 1: Initialize Variables\n",
    "\n",
    "# The trained model\n",
    "model = logreg_pipe\n",
    "\n",
    "# Model name\n",
    "model_prefix = 'SKLearn Logistic Regression v1'\n",
    "\n",
    "# Model algorithm\n",
    "algorithm = 'Logistic Regression'\n",
    "\n",
    "# STEP 2: Create subfolder\n",
    "model_path = Path.cwd() / output_folder / model_prefix\n",
    "if not os.path.exists(model_path):\n",
    "    os.makedirs(model_path)\n",
    "\n",
    "# STEP 3: Save binary model representation\n",
    "pzmm.PickleModel.pickle_trained_model(model_prefix=model_prefix, trained_model=model, pickle_path=model_path)\n",
    "\n",
    "# STEP 4: Create metadata files\n",
    "\n",
    "# Model inputs\n",
    "pzmm.JSONFiles.write_var_json(input_data=X, is_input=True, json_path=model_path)\n",
    "\n",
    "# Model outputs\n",
    "output_var = pd.DataFrame(columns=score_metrics, data=[[\"A\", 0.5]])\n",
    "pzmm.JSONFiles.write_var_json(input_data=output_var, is_input=False, json_path=model_path)\n",
    "\n",
    "# Model performance\n",
    "train_data = y_train.to_frame(name='actual').reset_index(drop=True)\n",
    "train_data['probability'] = model.predict_proba(X_train)[:,1]\n",
    "train_data['predict'] = np.where(train_data['probability'] > 0.25, 1, 0)\n",
    "train_data = train_data[['actual', 'predict', 'probability']]\n",
    "\n",
    "test_data = y_test.to_frame(name='actual').reset_index(drop=True)\n",
    "test_data['probability'] = model.predict_proba(X_test)[:,1]\n",
    "test_data['predict'] = np.where(test_data['probability'] > 0.25, 1, 0)\n",
    "test_data = test_data[['actual', 'predict', 'probability']]\n",
    "\n",
    "pzmm.JSONFiles.calculate_model_statistics(target_value=1, prob_value=0.25, \n",
    "                                          train_data=train_data, test_data=test_data, json_path=model_path)\n",
    "\n",
    "# Basic model information\n",
    "pzmm.JSONFiles.write_file_metadata_json(model_prefix=model_prefix, json_path=model_path)\n",
    "\n",
    "pzmm.JSONFiles.write_model_properties_json(model_name=model_prefix, target_variable=target,\n",
    "                                           target_values=['1', '0'], json_path=model_path,\n",
    "                                           model_algorithm=algorithm, modeler=modeler)\n",
    "\n",
    "# Model requirements\n",
    "requirements_json = pzmm.JSONFiles.create_requirements_json(model_path)\n",
    "with open(Path(model_path) / 'requirements.json', 'w') as req_file:\n",
    "    req_file.write(json.dumps(requirements_json, indent=4))\n",
    "    \n",
    "# STEP 5: Import model\n",
    "pzmm.ScoreCode.score_code = ''\n",
    "lreg = pzmm.ImportModel.import_model(model_files=model_path, model_prefix=model_prefix, project=project,\n",
    "                                     input_data=X, predict_method=[model.predict_proba, [float, float]],\n",
    "                                     score_metrics=score_metrics, overwrite_model=True,\n",
    "                                     target_values=['0', '1'], model_file_name=model_prefix + \".pickle\")"
   ]
  },
  {
   "cell_type": "code",
   "execution_count": 31,
   "id": "5889b202",
   "metadata": {
    "scrolled": true
   },
   "outputs": [
    {
     "name": "stdout",
     "output_type": "stream",
     "text": [
      "Model XGBoost v1 was successfully pickled and saved to C:\\code\\sascode\\python\\output\\XGBoost v1\\XGBoost v1.pickle.\n",
      "inputVar.json was successfully written and saved to C:\\code\\sascode\\python\\output\\XGBoost v1\\inputVar.json\n",
      "outputVar.json was successfully written and saved to C:\\code\\sascode\\python\\output\\XGBoost v1\\outputVar.json\n"
     ]
    },
    {
     "name": "stderr",
     "output_type": "stream",
     "text": [
      "C:\\Users\\jpnpul\\AppData\\Local\\miniconda3\\envs\\ml\\Lib\\site-packages\\urllib3\\connectionpool.py:1056: InsecureRequestWarning: Unverified HTTPS request is being made to host 'cisviya.sas.com'. Adding certificate verification is strongly advised. See: https://urllib3.readthedocs.io/en/1.26.x/advanced-usage.html#ssl-warnings\n",
      "  warnings.warn(\n",
      "C:\\Users\\jpnpul\\AppData\\Local\\miniconda3\\envs\\ml\\Lib\\site-packages\\urllib3\\connectionpool.py:1056: InsecureRequestWarning: Unverified HTTPS request is being made to host 'cisviya.sas.com'. Adding certificate verification is strongly advised. See: https://urllib3.readthedocs.io/en/1.26.x/advanced-usage.html#ssl-warnings\n",
      "  warnings.warn(\n",
      "C:\\Users\\jpnpul\\AppData\\Local\\miniconda3\\envs\\ml\\Lib\\site-packages\\urllib3\\connectionpool.py:1056: InsecureRequestWarning: Unverified HTTPS request is being made to host 'cisviya.sas.com'. Adding certificate verification is strongly advised. See: https://urllib3.readthedocs.io/en/1.26.x/advanced-usage.html#ssl-warnings\n",
      "  warnings.warn(\n",
      "C:\\Users\\jpnpul\\AppData\\Local\\miniconda3\\envs\\ml\\Lib\\site-packages\\urllib3\\connectionpool.py:1056: InsecureRequestWarning: Unverified HTTPS request is being made to host 'cisviya.sas.com'. Adding certificate verification is strongly advised. See: https://urllib3.readthedocs.io/en/1.26.x/advanced-usage.html#ssl-warnings\n",
      "  warnings.warn(\n",
      "C:\\Users\\jpnpul\\AppData\\Local\\miniconda3\\envs\\ml\\Lib\\site-packages\\urllib3\\connectionpool.py:1056: InsecureRequestWarning: Unverified HTTPS request is being made to host 'cisviya.sas.com'. Adding certificate verification is strongly advised. See: https://urllib3.readthedocs.io/en/1.26.x/advanced-usage.html#ssl-warnings\n",
      "  warnings.warn(\n",
      "C:\\Users\\jpnpul\\AppData\\Local\\miniconda3\\envs\\ml\\Lib\\site-packages\\urllib3\\connectionpool.py:1056: InsecureRequestWarning: Unverified HTTPS request is being made to host 'cisviya.sas.com'. Adding certificate verification is strongly advised. See: https://urllib3.readthedocs.io/en/1.26.x/advanced-usage.html#ssl-warnings\n",
      "  warnings.warn(\n",
      "C:\\Users\\jpnpul\\AppData\\Local\\miniconda3\\envs\\ml\\Lib\\site-packages\\urllib3\\connectionpool.py:1056: InsecureRequestWarning: Unverified HTTPS request is being made to host 'cisviya.sas.com'. Adding certificate verification is strongly advised. See: https://urllib3.readthedocs.io/en/1.26.x/advanced-usage.html#ssl-warnings\n",
      "  warnings.warn(\n",
      "C:\\Users\\jpnpul\\AppData\\Local\\miniconda3\\envs\\ml\\Lib\\site-packages\\urllib3\\connectionpool.py:1056: InsecureRequestWarning: Unverified HTTPS request is being made to host 'cisviya.sas.com'. Adding certificate verification is strongly advised. See: https://urllib3.readthedocs.io/en/1.26.x/advanced-usage.html#ssl-warnings\n",
      "  warnings.warn(\n",
      "C:\\Users\\jpnpul\\AppData\\Local\\miniconda3\\envs\\ml\\Lib\\site-packages\\urllib3\\connectionpool.py:1056: InsecureRequestWarning: Unverified HTTPS request is being made to host 'cisviya.sas.com'. Adding certificate verification is strongly advised. See: https://urllib3.readthedocs.io/en/1.26.x/advanced-usage.html#ssl-warnings\n",
      "  warnings.warn(\n",
      "C:\\Users\\jpnpul\\AppData\\Local\\miniconda3\\envs\\ml\\Lib\\site-packages\\urllib3\\connectionpool.py:1056: InsecureRequestWarning: Unverified HTTPS request is being made to host 'cisviya.sas.com'. Adding certificate verification is strongly advised. See: https://urllib3.readthedocs.io/en/1.26.x/advanced-usage.html#ssl-warnings\n",
      "  warnings.warn(\n",
      "C:\\Users\\jpnpul\\AppData\\Local\\miniconda3\\envs\\ml\\Lib\\site-packages\\urllib3\\connectionpool.py:1056: InsecureRequestWarning: Unverified HTTPS request is being made to host 'cisviya.sas.com'. Adding certificate verification is strongly advised. See: https://urllib3.readthedocs.io/en/1.26.x/advanced-usage.html#ssl-warnings\n",
      "  warnings.warn(\n"
     ]
    },
    {
     "name": "stdout",
     "output_type": "stream",
     "text": [
      "dmcas_fitstat.json was successfully written and saved to C:\\code\\sascode\\python\\output\\XGBoost v1\\dmcas_fitstat.json\n",
      "dmcas_roc.json was successfully written and saved to C:\\code\\sascode\\python\\output\\XGBoost v1\\dmcas_roc.json\n",
      "dmcas_lift.json was successfully written and saved to C:\\code\\sascode\\python\\output\\XGBoost v1\\dmcas_lift.json\n",
      "fileMetadata.json was successfully written and saved to C:\\code\\sascode\\python\\output\\XGBoost v1\\fileMetadata.json\n",
      "ModelProperties.json was successfully written and saved to C:\\code\\sascode\\python\\output\\XGBoost v1\\ModelProperties.json\n",
      "Model score code was written successfully to C:\\code\\sascode\\python\\output\\XGBoost v1\\score_XGBoost v1.py and uploaded to SAS Model Manager.\n",
      "All model files were zipped to C:\\code\\sascode\\python\\output\\XGBoost v1.\n"
     ]
    },
    {
     "name": "stderr",
     "output_type": "stream",
     "text": [
      "C:\\Users\\jpnpul\\AppData\\Local\\miniconda3\\envs\\ml\\Lib\\site-packages\\urllib3\\connectionpool.py:1056: InsecureRequestWarning: Unverified HTTPS request is being made to host 'cisviya.sas.com'. Adding certificate verification is strongly advised. See: https://urllib3.readthedocs.io/en/1.26.x/advanced-usage.html#ssl-warnings\n",
      "  warnings.warn(\n"
     ]
    },
    {
     "name": "stdout",
     "output_type": "stream",
     "text": [
      "Model was successfully imported into SAS Model Manager as XGBoost v1 with the following UUID: d59630b8-60cb-4311-8133-0b457b7f3dc3.\n"
     ]
    }
   ],
   "source": [
    "# XGBoost\n",
    "\n",
    "# STEP 1: Initialize Variables\n",
    "\n",
    "# The trained model\n",
    "model = xgb_pipe\n",
    "\n",
    "# Model name\n",
    "model_prefix = 'XGBoost v1'\n",
    "\n",
    "# Model algorithm\n",
    "algorithm = 'XGBoost'\n",
    "\n",
    "# STEP 2: Create subfolder\n",
    "model_path = Path.cwd() / output_folder / model_prefix\n",
    "if not os.path.exists(model_path):\n",
    "    os.makedirs(model_path)\n",
    "\n",
    "# STEP 3: Save binary model representation\n",
    "pzmm.PickleModel.pickle_trained_model(model_prefix=model_prefix, trained_model=model, pickle_path=model_path)\n",
    "\n",
    "# STEP 4: Create metadata files\n",
    "\n",
    "# Model inputs\n",
    "pzmm.JSONFiles.write_var_json(input_data=X, is_input=True, json_path=model_path)\n",
    "\n",
    "# Model outputs\n",
    "output_var = pd.DataFrame(columns=score_metrics, data=[[\"A\", 0.5]])\n",
    "pzmm.JSONFiles.write_var_json(input_data=output_var, is_input=False, json_path=model_path)\n",
    "\n",
    "# Model performance\n",
    "train_data = y_train.to_frame(name='actual').reset_index(drop=True)\n",
    "train_data['probability'] = model.predict_proba(X_train)[:,1]\n",
    "train_data['predict'] = np.where(train_data['probability'] > 0.25, 1, 0)\n",
    "train_data = train_data[['actual', 'predict', 'probability']]\n",
    "\n",
    "test_data = y_test.to_frame(name='actual').reset_index(drop=True)\n",
    "test_data['probability'] = model.predict_proba(X_test)[:,1]\n",
    "test_data['predict'] = np.where(test_data['probability'] > 0.25, 1, 0)\n",
    "test_data = test_data[['actual', 'predict', 'probability']]\n",
    "\n",
    "pzmm.JSONFiles.calculate_model_statistics(target_value=1, prob_value=0.25, \n",
    "                                          train_data=train_data, test_data=test_data, json_path=model_path)\n",
    "\n",
    "# Basic model information\n",
    "pzmm.JSONFiles.write_file_metadata_json(model_prefix=model_prefix, json_path=model_path)\n",
    "\n",
    "pzmm.JSONFiles.write_model_properties_json(model_name=model_prefix, target_variable=target,\n",
    "                                           target_values=['1', '0'], json_path=model_path,\n",
    "                                           model_algorithm=algorithm, modeler=modeler)\n",
    "\n",
    "# Model requirements\n",
    "requirements_json = pzmm.JSONFiles.create_requirements_json(model_path)\n",
    "with open(Path(model_path) / 'requirements.json', 'w') as req_file:\n",
    "    req_file.write(json.dumps(requirements_json, indent=4))\n",
    "    \n",
    "# STEP 5: Import model\n",
    "pzmm.ScoreCode.score_code = ''\n",
    "lreg = pzmm.ImportModel.import_model(model_files=model_path, model_prefix=model_prefix, project=project,\n",
    "                                     input_data=X, predict_method=[model.predict_proba, [float, float]],\n",
    "                                     score_metrics=score_metrics, overwrite_model=True,\n",
    "                                     target_values=['0', '1'], model_file_name=model_prefix + \".pickle\")"
   ]
  },
  {
   "cell_type": "code",
   "execution_count": 32,
   "id": "b99ca713",
   "metadata": {},
   "outputs": [
    {
     "name": "stdout",
     "output_type": "stream",
     "text": [
      "inputVar.json was successfully written and saved to C:\\code\\sascode\\python\\output\\MLflow Forest v1\\inputVar.json\n",
      "outputVar.json was successfully written and saved to C:\\code\\sascode\\python\\output\\MLflow Forest v1\\outputVar.json\n"
     ]
    },
    {
     "name": "stderr",
     "output_type": "stream",
     "text": [
      "C:\\Users\\jpnpul\\AppData\\Local\\miniconda3\\envs\\ml\\Lib\\site-packages\\urllib3\\connectionpool.py:1056: InsecureRequestWarning: Unverified HTTPS request is being made to host 'cisviya.sas.com'. Adding certificate verification is strongly advised. See: https://urllib3.readthedocs.io/en/1.26.x/advanced-usage.html#ssl-warnings\n",
      "  warnings.warn(\n",
      "C:\\Users\\jpnpul\\AppData\\Local\\miniconda3\\envs\\ml\\Lib\\site-packages\\urllib3\\connectionpool.py:1056: InsecureRequestWarning: Unverified HTTPS request is being made to host 'cisviya.sas.com'. Adding certificate verification is strongly advised. See: https://urllib3.readthedocs.io/en/1.26.x/advanced-usage.html#ssl-warnings\n",
      "  warnings.warn(\n",
      "C:\\Users\\jpnpul\\AppData\\Local\\miniconda3\\envs\\ml\\Lib\\site-packages\\urllib3\\connectionpool.py:1056: InsecureRequestWarning: Unverified HTTPS request is being made to host 'cisviya.sas.com'. Adding certificate verification is strongly advised. See: https://urllib3.readthedocs.io/en/1.26.x/advanced-usage.html#ssl-warnings\n",
      "  warnings.warn(\n",
      "C:\\Users\\jpnpul\\AppData\\Local\\miniconda3\\envs\\ml\\Lib\\site-packages\\urllib3\\connectionpool.py:1056: InsecureRequestWarning: Unverified HTTPS request is being made to host 'cisviya.sas.com'. Adding certificate verification is strongly advised. See: https://urllib3.readthedocs.io/en/1.26.x/advanced-usage.html#ssl-warnings\n",
      "  warnings.warn(\n",
      "C:\\Users\\jpnpul\\AppData\\Local\\miniconda3\\envs\\ml\\Lib\\site-packages\\urllib3\\connectionpool.py:1056: InsecureRequestWarning: Unverified HTTPS request is being made to host 'cisviya.sas.com'. Adding certificate verification is strongly advised. See: https://urllib3.readthedocs.io/en/1.26.x/advanced-usage.html#ssl-warnings\n",
      "  warnings.warn(\n",
      "C:\\Users\\jpnpul\\AppData\\Local\\miniconda3\\envs\\ml\\Lib\\site-packages\\urllib3\\connectionpool.py:1056: InsecureRequestWarning: Unverified HTTPS request is being made to host 'cisviya.sas.com'. Adding certificate verification is strongly advised. See: https://urllib3.readthedocs.io/en/1.26.x/advanced-usage.html#ssl-warnings\n",
      "  warnings.warn(\n",
      "C:\\Users\\jpnpul\\AppData\\Local\\miniconda3\\envs\\ml\\Lib\\site-packages\\urllib3\\connectionpool.py:1056: InsecureRequestWarning: Unverified HTTPS request is being made to host 'cisviya.sas.com'. Adding certificate verification is strongly advised. See: https://urllib3.readthedocs.io/en/1.26.x/advanced-usage.html#ssl-warnings\n",
      "  warnings.warn(\n",
      "C:\\Users\\jpnpul\\AppData\\Local\\miniconda3\\envs\\ml\\Lib\\site-packages\\urllib3\\connectionpool.py:1056: InsecureRequestWarning: Unverified HTTPS request is being made to host 'cisviya.sas.com'. Adding certificate verification is strongly advised. See: https://urllib3.readthedocs.io/en/1.26.x/advanced-usage.html#ssl-warnings\n",
      "  warnings.warn(\n",
      "C:\\Users\\jpnpul\\AppData\\Local\\miniconda3\\envs\\ml\\Lib\\site-packages\\urllib3\\connectionpool.py:1056: InsecureRequestWarning: Unverified HTTPS request is being made to host 'cisviya.sas.com'. Adding certificate verification is strongly advised. See: https://urllib3.readthedocs.io/en/1.26.x/advanced-usage.html#ssl-warnings\n",
      "  warnings.warn(\n",
      "C:\\Users\\jpnpul\\AppData\\Local\\miniconda3\\envs\\ml\\Lib\\site-packages\\urllib3\\connectionpool.py:1056: InsecureRequestWarning: Unverified HTTPS request is being made to host 'cisviya.sas.com'. Adding certificate verification is strongly advised. See: https://urllib3.readthedocs.io/en/1.26.x/advanced-usage.html#ssl-warnings\n",
      "  warnings.warn(\n",
      "C:\\Users\\jpnpul\\AppData\\Local\\miniconda3\\envs\\ml\\Lib\\site-packages\\urllib3\\connectionpool.py:1056: InsecureRequestWarning: Unverified HTTPS request is being made to host 'cisviya.sas.com'. Adding certificate verification is strongly advised. See: https://urllib3.readthedocs.io/en/1.26.x/advanced-usage.html#ssl-warnings\n",
      "  warnings.warn(\n"
     ]
    },
    {
     "name": "stdout",
     "output_type": "stream",
     "text": [
      "dmcas_fitstat.json was successfully written and saved to C:\\code\\sascode\\python\\output\\MLflow Forest v1\\dmcas_fitstat.json\n",
      "dmcas_roc.json was successfully written and saved to C:\\code\\sascode\\python\\output\\MLflow Forest v1\\dmcas_roc.json\n",
      "dmcas_lift.json was successfully written and saved to C:\\code\\sascode\\python\\output\\MLflow Forest v1\\dmcas_lift.json\n",
      "fileMetadata.json was successfully written and saved to C:\\code\\sascode\\python\\output\\MLflow Forest v1\\fileMetadata.json\n",
      "ModelProperties.json was successfully written and saved to C:\\code\\sascode\\python\\output\\MLflow Forest v1\\ModelProperties.json\n",
      "Model score code was written successfully to C:\\code\\sascode\\python\\output\\MLflow Forest v1\\score_MLflow Forest v1.py and uploaded to SAS Model Manager.\n",
      "All model files were zipped to C:\\code\\sascode\\python\\output\\MLflow Forest v1.\n"
     ]
    },
    {
     "name": "stderr",
     "output_type": "stream",
     "text": [
      "C:\\Users\\jpnpul\\AppData\\Local\\miniconda3\\envs\\ml\\Lib\\site-packages\\urllib3\\connectionpool.py:1056: InsecureRequestWarning: Unverified HTTPS request is being made to host 'cisviya.sas.com'. Adding certificate verification is strongly advised. See: https://urllib3.readthedocs.io/en/1.26.x/advanced-usage.html#ssl-warnings\n",
      "  warnings.warn(\n"
     ]
    },
    {
     "name": "stdout",
     "output_type": "stream",
     "text": [
      "Model was successfully imported into SAS Model Manager as MLflow Forest v1 with the following UUID: d48a6735-54a5-4873-b451-63f8b576b36d.\n"
     ]
    }
   ],
   "source": [
    "# MLFlow\n",
    "\n",
    "# STEP 1: Initialize Variables\n",
    "\n",
    "# The trained model\n",
    "model = forest_pipe\n",
    "\n",
    "# Model name\n",
    "model_prefix = 'MLflow Forest v1'\n",
    "\n",
    "# Model algorithm\n",
    "algorithm = 'Random Forest'\n",
    "\n",
    "# Model location\n",
    "mlflow_model_path = Path(\"./mlruns/0/\" + mlflow.active_run().info.run_uuid + \"/artifacts/model\")\n",
    "\n",
    "# MLflow model files\n",
    "metadata_dict, inputs_dict, outputs_dict = pzmm.MLFlowModel.read_mlflow_model_file(mlflow_model_path)\n",
    "\n",
    "\n",
    "# STEP 2: Create subfolder\n",
    "model_path = Path.cwd() / output_folder / model_prefix\n",
    "if not os.path.exists(model_path):\n",
    "    os.makedirs(model_path)\n",
    "\n",
    "# STEP 3: Save binary model representation\n",
    "pzmm.PickleModel.pickle_trained_model(model_prefix=model_prefix, pickle_path=model_path, mlflow_details=metadata_dict)\n",
    "\n",
    "# STEP 4: Create metadata files\n",
    "\n",
    "# Model inputs\n",
    "pzmm.JSONFiles.write_var_json(input_data=X, is_input=True, json_path=model_path)\n",
    "\n",
    "# Model outputs\n",
    "output_var = pd.DataFrame(columns=score_metrics, data=[[\"A\", 0.5]])\n",
    "pzmm.JSONFiles.write_var_json(input_data=output_var, is_input=False, json_path=model_path)\n",
    "\n",
    "# Model performance\n",
    "train_data = y_train.to_frame(name='actual').reset_index(drop=True)\n",
    "train_data['probability'] = model.predict_proba(X_train)[:,1]\n",
    "train_data['predict'] = np.where(train_data['probability'] > 0.25, 1, 0)\n",
    "train_data = train_data[['actual', 'predict', 'probability']]\n",
    "\n",
    "test_data = y_test.to_frame(name='actual').reset_index(drop=True)\n",
    "test_data['probability'] = model.predict_proba(X_test)[:,1]\n",
    "test_data['predict'] = np.where(test_data['probability'] > 0.25, 1, 0)\n",
    "test_data = test_data[['actual', 'predict', 'probability']]\n",
    "\n",
    "pzmm.JSONFiles.calculate_model_statistics(target_value=1, prob_value=0.25, \n",
    "                                          train_data=train_data, test_data=test_data, json_path=model_path)\n",
    "\n",
    "# Basic model information\n",
    "pzmm.JSONFiles.write_file_metadata_json(model_prefix=model_prefix, json_path=model_path)\n",
    "\n",
    "pzmm.JSONFiles.write_model_properties_json(model_name=model_prefix, target_variable=\"tensor\",\n",
    "                                           target_values=['1', '0'], json_path=model_path,\n",
    "                                           model_algorithm=algorithm, modeler=modeler)\n",
    "\n",
    "# Model requirements\n",
    "requirements_json = pzmm.JSONFiles.create_requirements_json(model_path)\n",
    "with open(Path(model_path) / 'requirements.json', 'w') as req_file:\n",
    "    req_file.write(json.dumps(requirements_json, indent=4))\n",
    "    \n",
    "# STEP 5: Import model\n",
    "pzmm.ScoreCode.score_code = ''\n",
    "lreg = pzmm.ImportModel.import_model(model_files=model_path, model_prefix=model_prefix, project=project,\n",
    "                                     input_data=X, predict_method=[model.predict_proba, [float, float]],\n",
    "                                     score_metrics=[\"tensor\"], overwrite_model=True,\n",
    "                                     target_values=['0', '1'], pickle_type=metadata_dict[\"serialization_format\"],\n",
    "                                     model_file_name=model_prefix + \".pickle\")"
   ]
  },
  {
   "cell_type": "code",
   "execution_count": 33,
   "id": "88d87758",
   "metadata": {},
   "outputs": [
    {
     "name": "stdout",
     "output_type": "stream",
     "text": [
      "inputVar.json was successfully written and saved to C:\\code\\sascode\\python\\output\\Keras Neural Network v1\\inputVar.json\n",
      "outputVar.json was successfully written and saved to C:\\code\\sascode\\python\\output\\Keras Neural Network v1\\outputVar.json\n",
      "296/296 [==============================] - 1s 2ms/step\n",
      "127/127 [==============================] - 0s 2ms/step\n"
     ]
    },
    {
     "name": "stderr",
     "output_type": "stream",
     "text": [
      "C:\\Users\\jpnpul\\AppData\\Local\\miniconda3\\envs\\ml\\Lib\\site-packages\\urllib3\\connectionpool.py:1056: InsecureRequestWarning: Unverified HTTPS request is being made to host 'cisviya.sas.com'. Adding certificate verification is strongly advised. See: https://urllib3.readthedocs.io/en/1.26.x/advanced-usage.html#ssl-warnings\n",
      "  warnings.warn(\n",
      "C:\\Users\\jpnpul\\AppData\\Local\\miniconda3\\envs\\ml\\Lib\\site-packages\\urllib3\\connectionpool.py:1056: InsecureRequestWarning: Unverified HTTPS request is being made to host 'cisviya.sas.com'. Adding certificate verification is strongly advised. See: https://urllib3.readthedocs.io/en/1.26.x/advanced-usage.html#ssl-warnings\n",
      "  warnings.warn(\n",
      "C:\\Users\\jpnpul\\AppData\\Local\\miniconda3\\envs\\ml\\Lib\\site-packages\\urllib3\\connectionpool.py:1056: InsecureRequestWarning: Unverified HTTPS request is being made to host 'cisviya.sas.com'. Adding certificate verification is strongly advised. See: https://urllib3.readthedocs.io/en/1.26.x/advanced-usage.html#ssl-warnings\n",
      "  warnings.warn(\n",
      "C:\\Users\\jpnpul\\AppData\\Local\\miniconda3\\envs\\ml\\Lib\\site-packages\\urllib3\\connectionpool.py:1056: InsecureRequestWarning: Unverified HTTPS request is being made to host 'cisviya.sas.com'. Adding certificate verification is strongly advised. See: https://urllib3.readthedocs.io/en/1.26.x/advanced-usage.html#ssl-warnings\n",
      "  warnings.warn(\n",
      "C:\\Users\\jpnpul\\AppData\\Local\\miniconda3\\envs\\ml\\Lib\\site-packages\\urllib3\\connectionpool.py:1056: InsecureRequestWarning: Unverified HTTPS request is being made to host 'cisviya.sas.com'. Adding certificate verification is strongly advised. See: https://urllib3.readthedocs.io/en/1.26.x/advanced-usage.html#ssl-warnings\n",
      "  warnings.warn(\n",
      "C:\\Users\\jpnpul\\AppData\\Local\\miniconda3\\envs\\ml\\Lib\\site-packages\\urllib3\\connectionpool.py:1056: InsecureRequestWarning: Unverified HTTPS request is being made to host 'cisviya.sas.com'. Adding certificate verification is strongly advised. See: https://urllib3.readthedocs.io/en/1.26.x/advanced-usage.html#ssl-warnings\n",
      "  warnings.warn(\n",
      "C:\\Users\\jpnpul\\AppData\\Local\\miniconda3\\envs\\ml\\Lib\\site-packages\\urllib3\\connectionpool.py:1056: InsecureRequestWarning: Unverified HTTPS request is being made to host 'cisviya.sas.com'. Adding certificate verification is strongly advised. See: https://urllib3.readthedocs.io/en/1.26.x/advanced-usage.html#ssl-warnings\n",
      "  warnings.warn(\n",
      "C:\\Users\\jpnpul\\AppData\\Local\\miniconda3\\envs\\ml\\Lib\\site-packages\\urllib3\\connectionpool.py:1056: InsecureRequestWarning: Unverified HTTPS request is being made to host 'cisviya.sas.com'. Adding certificate verification is strongly advised. See: https://urllib3.readthedocs.io/en/1.26.x/advanced-usage.html#ssl-warnings\n",
      "  warnings.warn(\n",
      "C:\\Users\\jpnpul\\AppData\\Local\\miniconda3\\envs\\ml\\Lib\\site-packages\\urllib3\\connectionpool.py:1056: InsecureRequestWarning: Unverified HTTPS request is being made to host 'cisviya.sas.com'. Adding certificate verification is strongly advised. See: https://urllib3.readthedocs.io/en/1.26.x/advanced-usage.html#ssl-warnings\n",
      "  warnings.warn(\n",
      "C:\\Users\\jpnpul\\AppData\\Local\\miniconda3\\envs\\ml\\Lib\\site-packages\\urllib3\\connectionpool.py:1056: InsecureRequestWarning: Unverified HTTPS request is being made to host 'cisviya.sas.com'. Adding certificate verification is strongly advised. See: https://urllib3.readthedocs.io/en/1.26.x/advanced-usage.html#ssl-warnings\n",
      "  warnings.warn(\n",
      "C:\\Users\\jpnpul\\AppData\\Local\\miniconda3\\envs\\ml\\Lib\\site-packages\\urllib3\\connectionpool.py:1056: InsecureRequestWarning: Unverified HTTPS request is being made to host 'cisviya.sas.com'. Adding certificate verification is strongly advised. See: https://urllib3.readthedocs.io/en/1.26.x/advanced-usage.html#ssl-warnings\n",
      "  warnings.warn(\n"
     ]
    },
    {
     "name": "stdout",
     "output_type": "stream",
     "text": [
      "dmcas_fitstat.json was successfully written and saved to C:\\code\\sascode\\python\\output\\Keras Neural Network v1\\dmcas_fitstat.json\n",
      "dmcas_roc.json was successfully written and saved to C:\\code\\sascode\\python\\output\\Keras Neural Network v1\\dmcas_roc.json\n",
      "dmcas_lift.json was successfully written and saved to C:\\code\\sascode\\python\\output\\Keras Neural Network v1\\dmcas_lift.json\n",
      "fileMetadata.json was successfully written and saved to C:\\code\\sascode\\python\\output\\Keras Neural Network v1\\fileMetadata.json\n",
      "ModelProperties.json was successfully written and saved to C:\\code\\sascode\\python\\output\\Keras Neural Network v1\\ModelProperties.json\n",
      "Model score code was written successfully to C:\\code\\sascode\\python\\output\\Keras Neural Network v1\\score_Keras Neural Network v1.py and uploaded to SAS Model Manager.\n",
      "All model files were zipped to C:\\code\\sascode\\python\\output\\Keras Neural Network v1.\n"
     ]
    },
    {
     "name": "stderr",
     "output_type": "stream",
     "text": [
      "C:\\Users\\jpnpul\\AppData\\Local\\miniconda3\\envs\\ml\\Lib\\site-packages\\urllib3\\connectionpool.py:1056: InsecureRequestWarning: Unverified HTTPS request is being made to host 'cisviya.sas.com'. Adding certificate verification is strongly advised. See: https://urllib3.readthedocs.io/en/1.26.x/advanced-usage.html#ssl-warnings\n",
      "  warnings.warn(\n"
     ]
    },
    {
     "name": "stdout",
     "output_type": "stream",
     "text": [
      "Model was successfully imported into SAS Model Manager as Keras Neural Network v1 with the following UUID: a7145c76-a94f-456a-b65b-fd981049b93b.\n"
     ]
    }
   ],
   "source": [
    "# Keras\n",
    "\n",
    "# STEP 1: Initialize Variables\n",
    "\n",
    "# The trained model\n",
    "model = keras\n",
    "\n",
    "# Model name\n",
    "model_prefix = 'Keras Neural Network v1'\n",
    "\n",
    "# Model algorithm\n",
    "algorithm = 'Neural Network'\n",
    "\n",
    "# STEP 2: Create subfolder\n",
    "model_path = Path.cwd() / output_folder / model_prefix\n",
    "if not os.path.exists(model_path):\n",
    "    os.makedirs(model_path)\n",
    "\n",
    "# STEP 3: Save binary model representation\n",
    "model.save(output_folder + '/' + model_prefix + '/tfmodel.h5')\n",
    "\n",
    "# STEP 4: Create metadata files\n",
    "\n",
    "# Model inputs\n",
    "pzmm.JSONFiles.write_var_json(input_data=X, is_input=True, json_path=model_path)\n",
    "\n",
    "# Model outputs\n",
    "output_var = pd.DataFrame(columns=score_metrics, data=[[\"A\", 0.5]])\n",
    "pzmm.JSONFiles.write_var_json(input_data=output_var, is_input=False, json_path=model_path)\n",
    "\n",
    "# Model performance\n",
    "train_data = y_train.to_frame(name='actual').reset_index(drop=True)\n",
    "train_data['probability'] = model.predict(X_train_keras)\n",
    "train_data['predict'] = np.where(train_data['probability'] > 0.25, 1, 0)\n",
    "train_data = train_data[['actual', 'predict', 'probability']]\n",
    "\n",
    "test_data = y_test.to_frame(name='actual').reset_index(drop=True)\n",
    "test_data['probability'] = model.predict(X_test_keras)\n",
    "test_data['predict'] = np.where(test_data['probability'] > 0.25, 1, 0)\n",
    "test_data = test_data[['actual', 'predict', 'probability']]\n",
    "\n",
    "pzmm.JSONFiles.calculate_model_statistics(target_value=1, prob_value=0.25, \n",
    "                                          train_data=train_data, test_data=test_data, json_path=model_path)\n",
    "\n",
    "# Basic model information\n",
    "pzmm.JSONFiles.write_file_metadata_json(model_prefix=model_prefix, json_path=model_path)\n",
    "\n",
    "pzmm.JSONFiles.write_model_properties_json(model_name=model_prefix, target_variable=target,\n",
    "                                           target_values=['1', '0'], json_path=model_path,\n",
    "                                           model_algorithm=algorithm, modeler=modeler)\n",
    "\n",
    "# Model requirements\n",
    "requirements_json = pzmm.JSONFiles.create_requirements_json(model_path)\n",
    "with open(Path(model_path) / 'requirements.json', 'w') as req_file:\n",
    "    req_file.write(json.dumps(requirements_json, indent=4))\n",
    "    \n",
    "# STEP 5: Import model\n",
    "pzmm.ScoreCode.score_code = ''\n",
    "lreg = pzmm.ImportModel.import_model(model_files=model_path, model_prefix=model_prefix, project=project,\n",
    "                                     input_data=X_train_keras, predict_method=[model.predict, [int, int]],\n",
    "                                     score_metrics=score_metrics, overwrite_model=True,\n",
    "                                     target_values=['0', '1'], model_file_name=model_prefix + \".h5\",\n",
    "                                     tf_keras_model=True)"
   ]
  },
  {
   "cell_type": "code",
   "execution_count": null,
   "id": "aa5fc7e8",
   "metadata": {},
   "outputs": [],
   "source": []
  }
 ],
 "metadata": {
  "kernelspec": {
   "display_name": "Python 3 (ipykernel)",
   "language": "python",
   "name": "python3"
  },
  "language_info": {
   "codemirror_mode": {
    "name": "ipython",
    "version": 3
   },
   "file_extension": ".py",
   "mimetype": "text/x-python",
   "name": "python",
   "nbconvert_exporter": "python",
   "pygments_lexer": "ipython3",
   "version": "3.11.5"
  }
 },
 "nbformat": 4,
 "nbformat_minor": 5
}

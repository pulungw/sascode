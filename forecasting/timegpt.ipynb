{
 "cells": [
  {
   "cell_type": "code",
   "execution_count": 2,
   "id": "b3a4b53d",
   "metadata": {},
   "outputs": [
    {
     "name": "stdout",
     "output_type": "stream",
     "text": [
      "env: TIMEGPT_TOKEN=RHSRdWh8UAyjABdeP49EGWxZ8kKP6ytvk8OKkS5p2nV80tf4hNotFMtcFEbXV4jTWXNHWmoOZTRoEBHdXizfSwIAuPCAXZ1hszDtslWrqDxDf77zGyLET88gmNicdZns3wmqHbxDrpTEU3CIHSnuDApSX4aYu6bkyWbV0KWCsrpmF9C2o96nrdTwFD57aNjivPgN8S8LOOMEbENz34Yp9LCKbsMDkApRPRaWV2JKfXDDtWi4aUJUNyIBm0nrAPpZ\n"
     ]
    }
   ],
   "source": [
    "import pandas as pd\n",
    "import os\n",
    "from nixtlats import TimeGPT\n",
    "%env TIMEGPT_TOKEN=RHSRdWh8UAyjABdeP49EGWxZ8kKP6ytvk8OKkS5p2nV80tf4hNotFMtcFEbXV4jTWXNHWmoOZTRoEBHdXizfSwIAuPCAXZ1hszDtslWrqDxDf77zGyLET88gmNicdZns3wmqHbxDrpTEU3CIHSnuDApSX4aYu6bkyWbV0KWCsrpmF9C2o96nrdTwFD57aNjivPgN8S8LOOMEbENz34Yp9LCKbsMDkApRPRaWV2JKfXDDtWi4aUJUNyIBm0nrAPpZ\n"
   ]
  },
  {
   "cell_type": "code",
   "execution_count": 3,
   "id": "0febc28f",
   "metadata": {},
   "outputs": [
    {
     "name": "stderr",
     "output_type": "stream",
     "text": [
      "INFO:nixtlats.timegpt:Validating inputs...\n",
      "INFO:nixtlats.timegpt:Inferred freq: H\n",
      "INFO:nixtlats.timegpt:Preprocessing dataframes...\n",
      "INFO:nixtlats.timegpt:Calling Forecast Endpoint...\n"
     ]
    },
    {
     "ename": "ApiError",
     "evalue": "status_code: 429, body: {'data': None, 'message': 'Too many requests', 'details': 'You have reached your request limit, email ops@nixtla.io to continue using the API', 'code': 'A20', 'requestID': 'WKPD6W7LT7', 'support': 'If you have questions or need support, please email ops@nixtla.io'}",
     "output_type": "error",
     "traceback": [
      "\u001b[1;31m---------------------------------------------------------------------------\u001b[0m",
      "\u001b[1;31mApiError\u001b[0m                                  Traceback (most recent call last)",
      "Cell \u001b[1;32mIn[3], line 4\u001b[0m\n\u001b[0;32m      1\u001b[0m df \u001b[38;5;241m=\u001b[39m pd\u001b[38;5;241m.\u001b[39mread_csv(\u001b[38;5;124m'\u001b[39m\u001b[38;5;124mhttps://raw.githubusercontent.com/Nixtla/transfer-learning-time-series/main/datasets/electricity-short.csv\u001b[39m\u001b[38;5;124m'\u001b[39m)\n\u001b[0;32m      3\u001b[0m timegpt \u001b[38;5;241m=\u001b[39m TimeGPT(token\u001b[38;5;241m=\u001b[39mos\u001b[38;5;241m.\u001b[39menviron[\u001b[38;5;124m'\u001b[39m\u001b[38;5;124mTIMEGPT_TOKEN\u001b[39m\u001b[38;5;124m'\u001b[39m])\n\u001b[1;32m----> 4\u001b[0m fcst_df \u001b[38;5;241m=\u001b[39m timegpt\u001b[38;5;241m.\u001b[39mforecast(df, h\u001b[38;5;241m=\u001b[39m\u001b[38;5;241m24\u001b[39m, level\u001b[38;5;241m=\u001b[39m[\u001b[38;5;241m80\u001b[39m, \u001b[38;5;241m90\u001b[39m])\n",
      "File \u001b[1;32m~\\AppData\\Local\\miniconda3\\envs\\ml\\Lib\\site-packages\\nixtlats\\timegpt.py:1015\u001b[0m, in \u001b[0;36mTimeGPT.forecast\u001b[1;34m(self, df, h, freq, id_col, time_col, target_col, X_df, level, finetune_steps, clean_ex_first, validate_token, add_history, date_features, date_features_to_one_hot, num_partitions)\u001b[0m\n\u001b[0;32m    951\u001b[0m \u001b[38;5;250m\u001b[39m\u001b[38;5;124;03m\"\"\"Forecast your time series using TimeGPT.\u001b[39;00m\n\u001b[0;32m    952\u001b[0m \n\u001b[0;32m    953\u001b[0m \u001b[38;5;124;03mParameters\u001b[39;00m\n\u001b[1;32m   (...)\u001b[0m\n\u001b[0;32m   1012\u001b[0m \u001b[38;5;124;03m    predictions (if level is not None).\u001b[39;00m\n\u001b[0;32m   1013\u001b[0m \u001b[38;5;124;03m\"\"\"\u001b[39;00m\n\u001b[0;32m   1014\u001b[0m \u001b[38;5;28;01mif\u001b[39;00m \u001b[38;5;28misinstance\u001b[39m(df, pd\u001b[38;5;241m.\u001b[39mDataFrame):\n\u001b[1;32m-> 1015\u001b[0m     \u001b[38;5;28;01mreturn\u001b[39;00m \u001b[38;5;28mself\u001b[39m\u001b[38;5;241m.\u001b[39m_forecast(\n\u001b[0;32m   1016\u001b[0m         df\u001b[38;5;241m=\u001b[39mdf,\n\u001b[0;32m   1017\u001b[0m         h\u001b[38;5;241m=\u001b[39mh,\n\u001b[0;32m   1018\u001b[0m         freq\u001b[38;5;241m=\u001b[39mfreq,\n\u001b[0;32m   1019\u001b[0m         id_col\u001b[38;5;241m=\u001b[39mid_col,\n\u001b[0;32m   1020\u001b[0m         time_col\u001b[38;5;241m=\u001b[39mtime_col,\n\u001b[0;32m   1021\u001b[0m         target_col\u001b[38;5;241m=\u001b[39mtarget_col,\n\u001b[0;32m   1022\u001b[0m         X_df\u001b[38;5;241m=\u001b[39mX_df,\n\u001b[0;32m   1023\u001b[0m         level\u001b[38;5;241m=\u001b[39mlevel,\n\u001b[0;32m   1024\u001b[0m         finetune_steps\u001b[38;5;241m=\u001b[39mfinetune_steps,\n\u001b[0;32m   1025\u001b[0m         clean_ex_first\u001b[38;5;241m=\u001b[39mclean_ex_first,\n\u001b[0;32m   1026\u001b[0m         validate_token\u001b[38;5;241m=\u001b[39mvalidate_token,\n\u001b[0;32m   1027\u001b[0m         add_history\u001b[38;5;241m=\u001b[39madd_history,\n\u001b[0;32m   1028\u001b[0m         date_features\u001b[38;5;241m=\u001b[39mdate_features,\n\u001b[0;32m   1029\u001b[0m         date_features_to_one_hot\u001b[38;5;241m=\u001b[39mdate_features_to_one_hot,\n\u001b[0;32m   1030\u001b[0m     )\n\u001b[0;32m   1031\u001b[0m \u001b[38;5;28;01melse\u001b[39;00m:\n\u001b[0;32m   1032\u001b[0m     \u001b[38;5;28;01mfrom\u001b[39;00m \u001b[38;5;21;01mnixtlats\u001b[39;00m\u001b[38;5;21;01m.\u001b[39;00m\u001b[38;5;21;01mdistributed\u001b[39;00m\u001b[38;5;21;01m.\u001b[39;00m\u001b[38;5;21;01mtimegpt\u001b[39;00m \u001b[38;5;28;01mimport\u001b[39;00m _DistributedTimeGPT\n",
      "File \u001b[1;32m~\\AppData\\Local\\miniconda3\\envs\\ml\\Lib\\site-packages\\nixtlats\\timegpt.py:712\u001b[0m, in \u001b[0;36m_TimeGPT._forecast\u001b[1;34m(self, df, h, freq, id_col, time_col, target_col, X_df, level, finetune_steps, clean_ex_first, validate_token, add_history, date_features, date_features_to_one_hot)\u001b[0m\n\u001b[0;32m    702\u001b[0m     \u001b[38;5;28;01mraise\u001b[39;00m \u001b[38;5;167;01mException\u001b[39;00m(\u001b[38;5;124m\"\u001b[39m\u001b[38;5;124mToken not valid, please email ops@nixtla.io\u001b[39m\u001b[38;5;124m\"\u001b[39m)\n\u001b[0;32m    704\u001b[0m df, X_df, drop_uid, freq \u001b[38;5;241m=\u001b[39m \u001b[38;5;28mself\u001b[39m\u001b[38;5;241m.\u001b[39m_validate_inputs(\n\u001b[0;32m    705\u001b[0m     df\u001b[38;5;241m=\u001b[39mdf,\n\u001b[0;32m    706\u001b[0m     X_df\u001b[38;5;241m=\u001b[39mX_df,\n\u001b[1;32m   (...)\u001b[0m\n\u001b[0;32m    710\u001b[0m     target_col\u001b[38;5;241m=\u001b[39mtarget_col,\n\u001b[0;32m    711\u001b[0m )\n\u001b[1;32m--> 712\u001b[0m fcst_df \u001b[38;5;241m=\u001b[39m \u001b[38;5;28mself\u001b[39m\u001b[38;5;241m.\u001b[39m_multi_series_forecast(\n\u001b[0;32m    713\u001b[0m     df\u001b[38;5;241m=\u001b[39mdf,\n\u001b[0;32m    714\u001b[0m     h\u001b[38;5;241m=\u001b[39mh,\n\u001b[0;32m    715\u001b[0m     freq\u001b[38;5;241m=\u001b[39mfreq,\n\u001b[0;32m    716\u001b[0m     X_df\u001b[38;5;241m=\u001b[39mX_df,\n\u001b[0;32m    717\u001b[0m     level\u001b[38;5;241m=\u001b[39mlevel,\n\u001b[0;32m    718\u001b[0m     finetune_steps\u001b[38;5;241m=\u001b[39mfinetune_steps,\n\u001b[0;32m    719\u001b[0m     clean_ex_first\u001b[38;5;241m=\u001b[39mclean_ex_first,\n\u001b[0;32m    720\u001b[0m     add_history\u001b[38;5;241m=\u001b[39madd_history,\n\u001b[0;32m    721\u001b[0m     date_features\u001b[38;5;241m=\u001b[39mdate_features,\n\u001b[0;32m    722\u001b[0m     date_features_to_one_hot\u001b[38;5;241m=\u001b[39mdate_features_to_one_hot,\n\u001b[0;32m    723\u001b[0m )\n\u001b[0;32m    724\u001b[0m fcst_df \u001b[38;5;241m=\u001b[39m \u001b[38;5;28mself\u001b[39m\u001b[38;5;241m.\u001b[39m_validate_outputs(\n\u001b[0;32m    725\u001b[0m     fcst_df\u001b[38;5;241m=\u001b[39mfcst_df,\n\u001b[0;32m    726\u001b[0m     id_col\u001b[38;5;241m=\u001b[39mid_col,\n\u001b[1;32m   (...)\u001b[0m\n\u001b[0;32m    729\u001b[0m     drop_uid\u001b[38;5;241m=\u001b[39mdrop_uid,\n\u001b[0;32m    730\u001b[0m )\n\u001b[0;32m    731\u001b[0m \u001b[38;5;28;01mreturn\u001b[39;00m fcst_df\n",
      "File \u001b[1;32m~\\AppData\\Local\\miniconda3\\envs\\ml\\Lib\\site-packages\\nixtlats\\timegpt.py:538\u001b[0m, in \u001b[0;36m_TimeGPT._multi_series_forecast\u001b[1;34m(self, df, h, freq, X_df, level, finetune_steps, clean_ex_first, add_history, date_features, date_features_to_one_hot)\u001b[0m\n\u001b[0;32m    536\u001b[0m input_size, model_horizon \u001b[38;5;241m=\u001b[39m \u001b[38;5;28mself\u001b[39m\u001b[38;5;241m.\u001b[39m_get_model_params(freq)\n\u001b[0;32m    537\u001b[0m main_logger\u001b[38;5;241m.\u001b[39minfo(\u001b[38;5;124m\"\u001b[39m\u001b[38;5;124mCalling Forecast Endpoint...\u001b[39m\u001b[38;5;124m\"\u001b[39m)\n\u001b[1;32m--> 538\u001b[0m fcst_df \u001b[38;5;241m=\u001b[39m \u001b[38;5;28mself\u001b[39m\u001b[38;5;241m.\u001b[39m_hit_multi_series_endpoint(\n\u001b[0;32m    539\u001b[0m     Y_df\u001b[38;5;241m=\u001b[39mY_df,\n\u001b[0;32m    540\u001b[0m     X_df\u001b[38;5;241m=\u001b[39mX_df,\n\u001b[0;32m    541\u001b[0m     h\u001b[38;5;241m=\u001b[39mh,\n\u001b[0;32m    542\u001b[0m     freq\u001b[38;5;241m=\u001b[39mfreq,\n\u001b[0;32m    543\u001b[0m     clean_ex_first\u001b[38;5;241m=\u001b[39mclean_ex_first,\n\u001b[0;32m    544\u001b[0m     finetune_steps\u001b[38;5;241m=\u001b[39mfinetune_steps,\n\u001b[0;32m    545\u001b[0m     x_cols\u001b[38;5;241m=\u001b[39mx_cols,\n\u001b[0;32m    546\u001b[0m     level\u001b[38;5;241m=\u001b[39mlevel,\n\u001b[0;32m    547\u001b[0m     input_size\u001b[38;5;241m=\u001b[39minput_size,\n\u001b[0;32m    548\u001b[0m     model_horizon\u001b[38;5;241m=\u001b[39mmodel_horizon,\n\u001b[0;32m    549\u001b[0m )\n\u001b[0;32m    550\u001b[0m \u001b[38;5;28;01mif\u001b[39;00m add_history:\n\u001b[0;32m    551\u001b[0m     main_logger\u001b[38;5;241m.\u001b[39minfo(\u001b[38;5;124m\"\u001b[39m\u001b[38;5;124mCalling Historical Forecast Endpoint...\u001b[39m\u001b[38;5;124m\"\u001b[39m)\n",
      "File \u001b[1;32m~\\AppData\\Local\\miniconda3\\envs\\ml\\Lib\\site-packages\\nixtlats\\timegpt.py:467\u001b[0m, in \u001b[0;36m_TimeGPT._hit_multi_series_endpoint\u001b[1;34m(self, Y_df, X_df, x_cols, h, freq, finetune_steps, clean_ex_first, level, input_size, model_horizon)\u001b[0m\n\u001b[0;32m    460\u001b[0m \u001b[38;5;28mself\u001b[39m\u001b[38;5;241m.\u001b[39m_validate_input_size(\n\u001b[0;32m    461\u001b[0m     Y_df\u001b[38;5;241m=\u001b[39mY_df,\n\u001b[0;32m    462\u001b[0m     input_size\u001b[38;5;241m=\u001b[39minput_size,\n\u001b[0;32m    463\u001b[0m     model_horizon\u001b[38;5;241m=\u001b[39mmodel_horizon,\n\u001b[0;32m    464\u001b[0m     require_history\u001b[38;5;241m=\u001b[39mfinetune_steps \u001b[38;5;241m>\u001b[39m \u001b[38;5;241m0\u001b[39m \u001b[38;5;129;01mor\u001b[39;00m level \u001b[38;5;129;01mis\u001b[39;00m \u001b[38;5;129;01mnot\u001b[39;00m \u001b[38;5;28;01mNone\u001b[39;00m,\n\u001b[0;32m    465\u001b[0m )\n\u001b[0;32m    466\u001b[0m y, x \u001b[38;5;241m=\u001b[39m \u001b[38;5;28mself\u001b[39m\u001b[38;5;241m.\u001b[39m_transform_dataframes(Y_df, X_df)\n\u001b[1;32m--> 467\u001b[0m response_timegpt \u001b[38;5;241m=\u001b[39m \u001b[38;5;28mself\u001b[39m\u001b[38;5;241m.\u001b[39mclient\u001b[38;5;241m.\u001b[39mtimegpt_multi_series(\n\u001b[0;32m    468\u001b[0m     y\u001b[38;5;241m=\u001b[39my,\n\u001b[0;32m    469\u001b[0m     x\u001b[38;5;241m=\u001b[39mx,\n\u001b[0;32m    470\u001b[0m     fh\u001b[38;5;241m=\u001b[39mh,\n\u001b[0;32m    471\u001b[0m     freq\u001b[38;5;241m=\u001b[39mfreq,\n\u001b[0;32m    472\u001b[0m     level\u001b[38;5;241m=\u001b[39mlevel,\n\u001b[0;32m    473\u001b[0m     finetune_steps\u001b[38;5;241m=\u001b[39mfinetune_steps,\n\u001b[0;32m    474\u001b[0m     clean_ex_first\u001b[38;5;241m=\u001b[39mclean_ex_first,\n\u001b[0;32m    475\u001b[0m )\n\u001b[0;32m    476\u001b[0m \u001b[38;5;28;01mif\u001b[39;00m \u001b[38;5;124m\"\u001b[39m\u001b[38;5;124mdata\u001b[39m\u001b[38;5;124m\"\u001b[39m \u001b[38;5;129;01min\u001b[39;00m response_timegpt:\n\u001b[0;32m    477\u001b[0m     response_timegpt \u001b[38;5;241m=\u001b[39m response_timegpt[\u001b[38;5;124m\"\u001b[39m\u001b[38;5;124mdata\u001b[39m\u001b[38;5;124m\"\u001b[39m]\n",
      "File \u001b[1;32m~\\AppData\\Local\\miniconda3\\envs\\ml\\Lib\\site-packages\\nixtlats\\client.py:158\u001b[0m, in \u001b[0;36mNixtla.timegpt_multi_series\u001b[1;34m(self, freq, level, fh, y, x, clean_ex_first, finetune_steps)\u001b[0m\n\u001b[0;32m    156\u001b[0m \u001b[38;5;28;01mexcept\u001b[39;00m JSONDecodeError:\n\u001b[0;32m    157\u001b[0m     \u001b[38;5;28;01mraise\u001b[39;00m ApiError(status_code\u001b[38;5;241m=\u001b[39m_response\u001b[38;5;241m.\u001b[39mstatus_code, body\u001b[38;5;241m=\u001b[39m_response\u001b[38;5;241m.\u001b[39mtext)\n\u001b[1;32m--> 158\u001b[0m \u001b[38;5;28;01mraise\u001b[39;00m ApiError(status_code\u001b[38;5;241m=\u001b[39m_response\u001b[38;5;241m.\u001b[39mstatus_code, body\u001b[38;5;241m=\u001b[39m_response_json)\n",
      "\u001b[1;31mApiError\u001b[0m: status_code: 429, body: {'data': None, 'message': 'Too many requests', 'details': 'You have reached your request limit, email ops@nixtla.io to continue using the API', 'code': 'A20', 'requestID': 'WKPD6W7LT7', 'support': 'If you have questions or need support, please email ops@nixtla.io'}"
     ]
    }
   ],
   "source": [
    "df = pd.read_csv('https://raw.githubusercontent.com/Nixtla/transfer-learning-time-series/main/datasets/electricity-short.csv')\n",
    "\n",
    "timegpt = TimeGPT(token=os.environ['TIMEGPT_TOKEN'])\n",
    "fcst_df = timegpt.forecast(df, h=24, level=[80, 90])\n"
   ]
  },
  {
   "cell_type": "code",
   "execution_count": null,
   "id": "26b4193b",
   "metadata": {},
   "outputs": [],
   "source": []
  }
 ],
 "metadata": {
  "kernelspec": {
   "display_name": "Python 3 (ipykernel)",
   "language": "python",
   "name": "python3"
  },
  "language_info": {
   "codemirror_mode": {
    "name": "ipython",
    "version": 3
   },
   "file_extension": ".py",
   "mimetype": "text/x-python",
   "name": "python",
   "nbconvert_exporter": "python",
   "pygments_lexer": "ipython3",
   "version": "3.11.5"
  }
 },
 "nbformat": 4,
 "nbformat_minor": 5
}
